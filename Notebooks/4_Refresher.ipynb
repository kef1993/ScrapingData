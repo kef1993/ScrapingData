{
 "cells": [
  {
   "cell_type": "markdown",
   "metadata": {
    "slideshow": {
     "slide_type": "slide"
    }
   },
   "source": [
    "## Collecting Data from the Internet with Python\n",
    "\n",
    "\n",
    "### Neal Caren  \n",
    "Department of Sociology  \n",
    "University of North Carolina,  Chapel Hill  \n",
    "neal.caren@gmail.com  \n",
    "@haphazardsoc  \n",
    "\n",
    "\n",
    "#### https://github.com/nealcaren/ScrapingData"
   ]
  },
  {
   "cell_type": "markdown",
   "metadata": {
    "slideshow": {
     "slide_type": "slide"
    }
   },
   "source": [
    "#### Why Python"
   ]
  },
  {
   "cell_type": "markdown",
   "metadata": {
    "slideshow": {
     "slide_type": "fragment"
    }
   },
   "source": [
    "![](https://raw.githubusercontent.com/nealcaren/UiOBigData/master/notebooks/images/stanford.png)"
   ]
  },
  {
   "cell_type": "markdown",
   "metadata": {
    "slideshow": {
     "slide_type": "slide"
    }
   },
   "source": [
    "![](https://raw.githubusercontent.com/nealcaren/UiOBigData/master/notebooks/images/language_rank.png)"
   ]
  },
  {
   "cell_type": "markdown",
   "metadata": {
    "slideshow": {
     "slide_type": "slide"
    }
   },
   "source": [
    "## The PandaKit\n",
    "\n",
    "\n",
    "* [pandas](http://pandas.pydata.org) Data management and analysis.\n",
    "* [scikit-learn](http://scikit-learn.org/stable/) Machine learning\n",
    "* [jupyter notebook](http://jupyter.org) Development environment\n",
    "\n",
    "\n",
    "\n"
   ]
  },
  {
   "cell_type": "markdown",
   "metadata": {
    "slideshow": {
     "slide_type": "slide"
    }
   },
   "source": [
    "<div class=\"alert alert-info\">\n",
    "<h3>Warm Up</h3>\n",
    "    <ul>\n",
    "<li> Store the sentence, \"An indictment is merely an allegation and all defendants are presumed innocent until proven guilty beyond a reasonable doubt in a court of law.\" as a string.\n",
    " \n",
    "</div>"
   ]
  },
  {
   "cell_type": "code",
   "execution_count": null,
   "metadata": {
    "slideshow": {
     "slide_type": "fragment"
    }
   },
   "outputs": [],
   "source": []
  },
  {
   "cell_type": "markdown",
   "metadata": {
    "slideshow": {
     "slide_type": "fragment"
    }
   },
   "source": [
    "<details>\n",
    "<summary>Sample answer code</summary> \n",
    "<code style=\"background-color: white\">\n",
    "s = \"An indictment is merely an allegation and all defendants are presumed innocent until proven guilty beyond a reasonable doubt in a court of law.\"\n",
    "print(s)\n",
    "</details>\n",
    "\n",
    "\n"
   ]
  },
  {
   "cell_type": "markdown",
   "metadata": {
    "slideshow": {
     "slide_type": "slide"
    }
   },
   "source": [
    "<div class=\"alert alert-info\">\n",
    "<h3>Warm Up</h3>\n",
    "    <ul>\n",
    "    <li> Count the number of characters in your string. \n",
    "    </ul>\n",
    "</div>"
   ]
  },
  {
   "cell_type": "code",
   "execution_count": null,
   "metadata": {
    "slideshow": {
     "slide_type": "fragment"
    }
   },
   "outputs": [],
   "source": []
  },
  {
   "cell_type": "markdown",
   "metadata": {
    "slideshow": {
     "slide_type": "fragment"
    }
   },
   "source": [
    "<details>\n",
    "<summary>Sample answer code</summary> \n",
    "<code style=\"background-color: white\">\n",
    "char_count = len(s)\n",
    "print(char_count)\n",
    "\n",
    "</code>\n",
    "</details>\n",
    "\n",
    "\n"
   ]
  },
  {
   "cell_type": "markdown",
   "metadata": {
    "slideshow": {
     "slide_type": "slide"
    }
   },
   "source": [
    "<div class=\"alert alert-info\">\n",
    "<h3>Warm Up</h3>\n",
    "    <ul>\n",
    "    <li> Count the number of words in your string.\n",
    "    </ul>\n",
    "</div>"
   ]
  },
  {
   "cell_type": "code",
   "execution_count": null,
   "metadata": {
    "slideshow": {
     "slide_type": "fragment"
    }
   },
   "outputs": [],
   "source": []
  },
  {
   "cell_type": "markdown",
   "metadata": {
    "slideshow": {
     "slide_type": "fragment"
    }
   },
   "source": [
    "<details>\n",
    "<summary>Sample answer code</summary> \n",
    "<code style=\"background-color: white\">\n",
    "word_count = len(s.split())\n",
    "print(word_count)\n",
    "\n",
    "</code>\n",
    "</details>\n",
    "\n",
    "\n"
   ]
  },
  {
   "cell_type": "markdown",
   "metadata": {
    "slideshow": {
     "slide_type": "slide"
    }
   },
   "source": [
    "<div class=\"alert alert-info\">\n",
    "<h3>Warm Up</h3>\n",
    "    <ul>\n",
    "            <li> Bonus: Compute the average word length.\n",
    "\n",
    "</div>"
   ]
  },
  {
   "cell_type": "code",
   "execution_count": null,
   "metadata": {
    "slideshow": {
     "slide_type": "fragment"
    }
   },
   "outputs": [],
   "source": []
  },
  {
   "cell_type": "markdown",
   "metadata": {
    "slideshow": {
     "slide_type": "fragment"
    }
   },
   "source": [
    "<details>\n",
    "<summary>Sample answer code</summary> \n",
    "\n",
    "<code style=\"background-color: white\">\n",
    "letter_count = len(s.strip('.').replace(' ',''))\n",
    "print(letter_count/word_count)\n",
    "</code>\n",
    "</details>\n",
    "\n",
    "\n"
   ]
  },
  {
   "cell_type": "markdown",
   "metadata": {
    "slideshow": {
     "slide_type": "slide"
    }
   },
   "source": [
    "##  trolls\n",
    "\n",
    "For this warm up exercise, you will analyze a sample of 50,000 Russian troll tweets. You can answer each question in the cell space provided in this notebook or start a new notebook.\n",
    "\n",
    "As part of analysis of Russian influence in the 2016 U.S. presidential election, FiveThirtyEight released almost [three million russian troll tweets](https://fivethirtyeight.com/features/why-were-sharing-3-million-russian-troll-tweets/). FiveThirtyEight obtained the data from Clemson University researchers [Darren Linvill](https://www.clemson.edu/cbshs/faculty-staff/profiles/darrenl) and [Patrick Warren](http://pwarren.people.clemson.edu/). Tweets were collected from accounts identified in the  [November 2017](https://democrats-intelligence.house.gov/uploadedfiles/exhibit_b.pdf) and [June 2018](https://democrats-intelligence.house.gov/uploadedfiles/ira_handles_june_2018.pdf) lists of Internet Research Agency-connected handles [provided to Congress](https://democrats-intelligence.house.gov/news/documentsingle.aspx?DocumentID=396) by Twitter. You can access the FiveThirtyEight repository for a comlete description of the data.\n"
   ]
  },
  {
   "cell_type": "markdown",
   "metadata": {
    "slideshow": {
     "slide_type": "slide"
    }
   },
   "source": [
    "Variables in the file include:\n",
    "\n",
    "Name | Definition\n",
    "---|---------\n",
    "`external_author_id` | An author account ID from Twitter \n",
    "`author` | The handle sending the tweet\n",
    "`content` | The text of the tweet\n",
    "`region` | A region classification, as [determined by Social Studio](https://help.salesforce.com/articleView?id=000199367&type=1)\n",
    "`language` | The language of the tweet\n",
    "`publish_date` | The date and time the tweet was sent\n",
    "`harvested_date` | The date and time the tweet was collected by Social Studio\n",
    "`following` | The number of accounts the handle was following at the time of the tweet\n",
    "`followers` | The number of followers the handle had at the time of the tweet\n",
    "`updates` | The number of “update actions” on the account that authored the tweet, including tweets, retweets and likes\n",
    "`post_type` | Indicates if the tweet was a retweet or a quote-tweet\n",
    "`account_type` | Specific account theme, as coded by Linvill and Warren\n",
    "`retweet` | A binary indicator of whether or not the tweet is a retweet\n",
    "`account_category` | General account theme, as coded by Linvill and Warren\n",
    "`new_june_2018` | A binary indicator of whether the handle was newly listed in June 2018\n",
    "`alt_external_id` | Reconstruction of author account ID from Twitter, derived from `article_url` variable and the first list provided to Congress\n",
    "`tweet_id` | Unique id assigned by twitter to each status update, derived from `article_url`\n",
    "`article_url` | Link to original tweet. Now redirects to \"Account Suspended\" page\n",
    "`tco1_step1` | First redirect for the first http(s)://t.co/ link in a tweet, if it exists\n",
    "`tco2_step1` | First redirect for the second http(s)://t.co/ link in a tweet, if it exists\n",
    "`tco3_step1` | First redirect for the third http(s)://t.co/ link in a tweet, if it exists\n"
   ]
  },
  {
   "cell_type": "markdown",
   "metadata": {
    "slideshow": {
     "slide_type": "slide"
    }
   },
   "source": [
    "<div class=\"alert alert-info\">\n",
    "<h3>Load the dataset as a pandas dataframe</h3>\n",
    "You can access the data directly from <a href=\"https://raw.githubusercontent.com/nealcaren/UiOBigData⁩/master/notebooks/data/ira_sample_50k.csv\">the web.</a> <p>\n",
    "URL: https://raw.githubusercontent.com/nealcaren/UiOBigData⁩/master/notebooks/data/ira_sample_50k.csv\n",
    "\n",
    "\n",
    "Hint:\n",
    "* Remember to `import` pandas. \n",
    "* store the URL as a string\n",
    "* Pandas can load a file from a local directory or from a URL.\n",
    "</div>"
   ]
  },
  {
   "cell_type": "code",
   "execution_count": null,
   "metadata": {
    "slideshow": {
     "slide_type": "fragment"
    }
   },
   "outputs": [],
   "source": []
  },
  {
   "cell_type": "markdown",
   "metadata": {
    "slideshow": {
     "slide_type": "fragment"
    }
   },
   "source": [
    "<details>\n",
    "<summary>Sample answer code</summary> \n",
    "<code style=\"background-color: white\">\n",
    "import pandas as pd\n",
    "    \n",
    "troll_url = 'https://raw.githubusercontent.com/nealcaren/UiOBigData⁩/master/notebooks/data/ira_sample_50k.csv'\n",
    "troll_df = pd.read_csv(troll_url)\n",
    "</code>\n",
    "</details>\n",
    "\n"
   ]
  },
  {
   "cell_type": "markdown",
   "metadata": {
    "slideshow": {
     "slide_type": "slide"
    }
   },
   "source": [
    "<div class=\"alert alert-info\">\n",
    "<h3>Inspect the dataframe</h3>\n",
    "\n",
    "Hint:\n",
    "* `describe`, `info`, and `sample` are useful.\n",
    "* You will want to insert additional code cells for each command.\n",
    "</div>"
   ]
  },
  {
   "cell_type": "code",
   "execution_count": null,
   "metadata": {
    "slideshow": {
     "slide_type": "fragment"
    }
   },
   "outputs": [],
   "source": []
  },
  {
   "cell_type": "markdown",
   "metadata": {
    "slideshow": {
     "slide_type": "fragment"
    }
   },
   "source": [
    "<details>\n",
    "<summary>Sample answer code</summary> \n",
    "<code style=\"background-color: white\">\n",
    "troll_df.info()\n",
    "troll_df.describe()\n",
    "troll_df.sample(10)\n",
    "</code>\n",
    "  <p> <p> Note: Make sure to replace <code style=\"background-color: white\">troll_df</code> with the name you used, if you picked something else.\n",
    "</details>"
   ]
  },
  {
   "cell_type": "markdown",
   "metadata": {
    "slideshow": {
     "slide_type": "slide"
    }
   },
   "source": [
    "<div class=\"alert alert-info\">\n",
    "<h3>How many columns in the dataset?</h3>\n",
    "\n",
    "\n",
    "Hint: \n",
    "* `len` can be used to compute the length of a list.\n",
    "</div>\n",
    "\n"
   ]
  },
  {
   "cell_type": "code",
   "execution_count": null,
   "metadata": {
    "slideshow": {
     "slide_type": "fragment"
    }
   },
   "outputs": [],
   "source": []
  },
  {
   "cell_type": "markdown",
   "metadata": {
    "slideshow": {
     "slide_type": "fragment"
    }
   },
   "source": [
    "<details>\n",
    "<summary>Sample answer code</summary> \n",
    "<code style=\"background-color: white\">\n",
    "len(troll_df.keys())\n",
    "</code>\n",
    "</details>\n"
   ]
  },
  {
   "cell_type": "markdown",
   "metadata": {
    "slideshow": {
     "slide_type": "slide"
    }
   },
   "source": [
    "<div class=\"alert alert-info\">\n",
    "    <h3> How many tweets had links?</h3>\n",
    "\n",
    "</div>\n",
    "\n"
   ]
  },
  {
   "cell_type": "code",
   "execution_count": null,
   "metadata": {
    "slideshow": {
     "slide_type": "fragment"
    }
   },
   "outputs": [],
   "source": []
  },
  {
   "cell_type": "markdown",
   "metadata": {
    "slideshow": {
     "slide_type": "fragment"
    }
   },
   "source": [
    "<details>\n",
    "<summary>Sample answer code</summary> \n",
    "<code style=\"background-color: white\">\n",
    "troll_df['tco1_step1'].describe()\n",
    "</code>\n",
    "</details>\n"
   ]
  },
  {
   "cell_type": "markdown",
   "metadata": {
    "slideshow": {
     "slide_type": "slide"
    }
   },
   "source": [
    "<div class=\"alert alert-info\">\n",
    "<h3>Bonus: How many of the tweets are tagged RightTroll?</h3>\n",
    "\n",
    "</div>"
   ]
  },
  {
   "cell_type": "code",
   "execution_count": null,
   "metadata": {
    "slideshow": {
     "slide_type": "fragment"
    }
   },
   "outputs": [],
   "source": []
  },
  {
   "cell_type": "markdown",
   "metadata": {
    "slideshow": {
     "slide_type": "fragment"
    }
   },
   "source": [
    "<details>\n",
    "<summary>Sample answer code</summary> \n",
    "<code style=\"background-color: white\">\n",
    "troll_df['account_category'].value_counts()\n",
    "</code>\n",
    "<p>You can also access the number directly:\n",
    "    <code style=\"background-color: white\">\n",
    "troll_df['account_category'].value_counts()['RightTroll']\n",
    "        </code>\n",
    "</details>"
   ]
  },
  {
   "cell_type": "markdown",
   "metadata": {
    "slideshow": {
     "slide_type": "slide"
    }
   },
   "source": [
    "<div class=\"alert alert-info\">\n",
    "<h3>Bonus: What is the median number of following accounts?</h3>\n",
    "\n",
    "</div>"
   ]
  },
  {
   "cell_type": "code",
   "execution_count": null,
   "metadata": {
    "slideshow": {
     "slide_type": "fragment"
    }
   },
   "outputs": [],
   "source": []
  },
  {
   "cell_type": "markdown",
   "metadata": {
    "slideshow": {
     "slide_type": "fragment"
    }
   },
   "source": [
    "<details>\n",
    "<summary>Sample answer code</summary> \n",
    "<code style=\"background-color: white\">\n",
    "troll_df['following'].describe()\n",
    "</code>\n",
    "</details>"
   ]
  },
  {
   "cell_type": "markdown",
   "metadata": {
    "slideshow": {
     "slide_type": "slide"
    }
   },
   "source": [
    "\n",
    "\n",
    "<div class=\"alert alert-info\">\n",
    "<h3>New Variable</h3>\n",
    "\n",
    "\n",
    "\n",
    "\n",
    "<p> Create a new variable <code>tweet_length</code> that is the number of words in the tweet.\n",
    "\n",
    "Hint:\n",
    "* This requires you to `apply` a function that you create.\n",
    "</div>\n",
    "\n"
   ]
  },
  {
   "cell_type": "code",
   "execution_count": null,
   "metadata": {
    "slideshow": {
     "slide_type": "fragment"
    }
   },
   "outputs": [],
   "source": []
  },
  {
   "cell_type": "markdown",
   "metadata": {
    "slideshow": {
     "slide_type": "fragment"
    }
   },
   "source": [
    "<details>\n",
    "<summary>Sample answer code</summary> \n",
    "Define a new function that counts the number of words in a string: <p>\n",
    "<code style=\"background-color: white\">\n",
    "def word_counter(content):\n",
    "    '''Count the number of words in a string.'''\n",
    "    content_words = content.split()\n",
    "    word_count = len(content_words)\n",
    "    return word_count\n",
    "</code>\n",
    "<p>\n",
    "Apply the function on the tweet text variable to create a new column.\n",
    "\n",
    "<code style=\"background-color: white\">\n",
    "\n",
    "\n",
    "troll_df['tweet_length'] = troll_df['content'].apply(word_counter)\n",
    "</code>\n",
    "</details>\n"
   ]
  }
 ],
 "metadata": {
  "kernelspec": {
   "display_name": "Python 3",
   "language": "python",
   "name": "python3"
  },
  "language_info": {
   "codemirror_mode": {
    "name": "ipython",
    "version": 3
   },
   "file_extension": ".py",
   "mimetype": "text/x-python",
   "name": "python",
   "nbconvert_exporter": "python",
   "pygments_lexer": "ipython3",
   "version": "3.6.9"
  }
 },
 "nbformat": 4,
 "nbformat_minor": 2
}
