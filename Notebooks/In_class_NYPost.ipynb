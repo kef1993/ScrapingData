{
 "cells": [
  {
   "cell_type": "code",
   "execution_count": 3,
   "metadata": {},
   "outputs": [],
   "source": [
    "import pandas as pd\n",
    "\n",
    "from requests_html import HTMLSession"
   ]
  },
  {
   "cell_type": "code",
   "execution_count": 4,
   "metadata": {},
   "outputs": [],
   "source": [
    "url = 'https://nypost.com/'"
   ]
  },
  {
   "cell_type": "code",
   "execution_count": 6,
   "metadata": {},
   "outputs": [],
   "source": [
    "session = HTMLSession()\n",
    "\n",
    "r = session.get(url)"
   ]
  },
  {
   "cell_type": "code",
   "execution_count": 8,
   "metadata": {},
   "outputs": [],
   "source": [
    "parsed_html = r.html"
   ]
  },
  {
   "cell_type": "code",
   "execution_count": 13,
   "metadata": {},
   "outputs": [
    {
     "name": "stdout",
     "output_type": "stream",
     "text": [
      "ABC scrambles to figure out identity of Amy Robach leaker, who goes by 'Ignotus'\n",
      "Fake heiress Anna Sorokin finds love in prison\n",
      "Carlos Beltran: Astros stole signs in 2017, but not illegally\n",
      "NYC socialite lawyerless after blowing through 10 divorce attorneys\n",
      "Grisly details emerge in case of slain backpacker\n",
      "Homeless man hurls bucket of diarrhea at woman in the most revolting attack ever\n",
      "Lamar Odom's son says dad is 'in the sunken place' after engagement\n",
      "Two birds lock beaks in epic NYC street fight\n",
      "Cat commotion! Group of strays caught darting through woman's car\n",
      "Tensions rise after rocket explosion on highway near Israel-Gaza border\n",
      "Giant clock nearly crushes repairman and more death-cheating videos\n",
      "Millie Bobby Brown steps out for 'Stranger Things' and more star snaps\n",
      "The evolution of Russell Crowe\n",
      "Kenya Moore is fitter than ever one year after baby\n",
      "Pieces of the Berlin Wall have traveled around the world\n",
      "Nikki Haley defends Trump's Ukraine call in heated 'Today' interview\n",
      "Nearly 200 rockets launched at Israel from Gaza Strip since killing of Islamic Jihad leader\n",
      "Epstein's alleged madam threatened my life after I reported him: accuser\n",
      "Mom, daughter busted at airport with 62 pounds of pot: cops\n",
      "First vaper to get double-lung transplant is teen former athlete\n",
      "Former Bolivian President Evo Morales begins exile in Mexico\n",
      "Woman charged with murder of Army vet working as pizza driver\n",
      "MMA fighter bitten as she takes down anti-Trump protester\n",
      "Texas family wins last-minute ruling to keep sick baby on life support\n",
      "Puppy rescued after sicko set him on fire with blowtorch\n",
      "ABC and the leaker of secrets\n",
      "Fake heiress Anna Sorokin finds love in prison\n",
      "Lamar Odom’s son says dad is ‘in the sunken place’ after engagement\n",
      "Hilaria Baldwin updates fans from hospital bed after miscarriage\n",
      "Naturi Naughton talks ‘Power’ and 50 Cent’s ‘shady’ Instagram post\n",
      "Arnold Schwarzenegger runs errands in tank-like SUV\n",
      "‘Friday’ star John Witherspoon died from coronary heart disease\n",
      "Selena Gomez gets new tattoo with pop pal Julia Michaels\n",
      "Moby gets new ‘animal rights’ tattoos to mark vegan anniversary\n",
      "All of Sean Spicer’s wild looks on ‘Dancing with the Stars’\n",
      "Carlos Beltran: Astros stole signs in 2017, but not illegally\n",
      "Ex-Astros pitcher turns whistleblower on sign-stealing 2017 team\n",
      "Fast-rising Mariners prospect is Mets' worst nightmare\n",
      "Kristaps Porzingis flops after 'ungodly' Mark Cuban jinx\n",
      "Inside the hellish end to Rickie Fowler's honeymoon\n",
      "NYPD transit chief blames subway incidents on 'lack of cooperation'\n",
      "White Queens cop says black supervisor harassed her for dating black man\n",
      "Maniac hijacks 1 train intercom, shouts, 'I have a f--king gun!'\n",
      "Brutes beat up a delivery man in Brooklyn\n",
      "Taxi bursts into flames on the Upper East Side\n",
      "Christian Serratos looks stunning as Selena in Netflix series\n",
      "Today's the day! Here's everything you need to know about the launch of Disney+\n",
      "Adam Driver stars in dull torture porn movie, 'The Report'\n",
      "'Tina' star Daniel J. Watts says Ike Turner 'has paid his dues'\n",
      "Will Ferrell set to host 'Saturday Night Live' for fifth time\n",
      "McDonald's workers sue to address 'systemic problem' of sexual harassment\n",
      "Got Chapter 11?: America's biggest milk producer files for bankruptcy\n",
      "Nissan cuts profit forecast after 70 percent quarterly plunge\n",
      "Big shareholder demands Elf Beauty put itself up for sale\n",
      "Guy Fieri expands fried chicken chain with new Tennessee locations\n",
      "Yes, a fair impeachment inquiry would question Hunter Biden\n",
      "Assaults on EMTs are soaring — but de Blasio has no help on the way\n",
      "Kelly's and Tillerson's 'Resistance' in the White House\n",
      "A conspiracy for fraud at the city Department of Education\n",
      "NYC's would-be mayors give the NYPD the churro\n",
      "PETA sells $150 'wool hurts' sweater featuring bloody sheep\n",
      "Net-A-Porter's massive holiday sale is full of designer deals\n",
      "Carrie Underwood's style evolution: From down-home to diva\n",
      "Snag Kate Middleton's favorite blazer on sale at Shopbop\n",
      "Domenico Vacca opening new store after legal spat\n",
      "Become an office guru by mastering Excel and VBA\n",
      "Net-A-Porter's massive holiday sale is full of designer deals\n",
      "These are the best sales to shop online this week\n",
      "Score a lifetime of private internet browsing for under $40\n",
      "Learn a new language in 10 minutes per day with this innovative app\n",
      "This googly-eyed feline is the cat's meow\n",
      "Is my kid too young for contact sports?\n",
      "Arby's posts sign saying 'only well-behaved children' are welcome\n",
      "Burger King is adding Impossible Whoppers to its kids meals\n",
      "Venice flooding forces tourists, locals to get creative amid high water\n",
      "Penn Station renovations will shut down fast food, stores in LIRR concourse\n",
      "Gloomy Hotel Pennsylvania isn't getting replaced anytime soon\n",
      "Blue Bottle Coffee joining other eateries at new Manhattan location\n",
      "Norah Jones lists stunning Brooklyn house with heated pool\n",
      "Brokers use social media to seal deals — and broadcast them\n",
      "Staffers blast Facebook's 'black people problem' in open letter\n",
      "Schumer concerned by Army's use of TikTok for recruiting\n",
      "Google defends amassing health data on millions of people\n",
      "Big tech racing to replace smartphones with smart glasses\n",
      "German intelligence agencies open new spy school in Berlin\n",
      "ABC scrambles to figure out identity of Amy Robach leaker, who goes by 'Ignotus'\n",
      "Producer cites bipolar disorder in civil rights suit against Al Jazeera\n",
      "Hearst Magazines staffers sign up to join union in historic numbers\n",
      "CBS executive to receive $100 million package\n",
      "Head of The Onion, Deadspin sued for sex discrimination\n"
     ]
    }
   ],
   "source": [
    "for item in parsed_html.find('.headline'):\n",
    "    print(item.text)"
   ]
  },
  {
   "cell_type": "code",
   "execution_count": 16,
   "metadata": {},
   "outputs": [
    {
     "name": "stdout",
     "output_type": "stream",
     "text": [
      "https://nypost.com/2019/11/12/is-my-kid-too-young-for-contact-sports/\n",
      "https://nypost.com/2019/11/12/become-an-office-guru-by-mastering-excel-and-vba/\n",
      "https://nypost.com/2019/11/12/pit-bull-puppy-rescued-after-sicko-set-him-on-fire-with-blowtorch/\n",
      "https://nypost.com/2019/11/12/nearly-200-rockets-launched-at-israel-from-gaza-strip-since-killing-of-islamic-jihad-leader/\n",
      "https://nypost.com/2019/11/12/big-tech-racing-to-replace-smartphones-with-smart-glasses/\n",
      "https://nypost.com/2019/11/12/guy-fieri-expands-fried-chicken-chain-with-new-tennessee-locations/\n",
      "https://nypost.com/2019/11/12/burger-king-is-adding-impossible-whoppers-to-its-kids-meals/\n",
      "https://nypost.com/2019/11/12/brutes-beat-up-a-delivery-man-in-brooklyn/\n",
      "https://nypost.com/2019/11/12/big-shareholder-demands-elf-beauty-put-itself-up-for-sale/\n",
      "https://nypost.com/2019/11/12/schumer-concerned-by-armys-use-of-tiktok-for-recruiting/\n",
      "https://nypost.com/2019/11/12/nyc-socialite-lawyerless-after-blowing-through-10-divorce-attorneys/\n",
      "https://nypost.com/2019/11/12/christian-serratos-looks-stunning-as-selena-in-netflix-series/\n",
      "https://nypost.com/2019/11/12/mom-daughter-busted-at-airport-with-62-pounds-of-pot-cops/\n",
      "https://nypost.com/2019/11/12/rickie-fowlers-honeymoon-with-allison-stokke-ended-horribly/\n",
      "https://nypost.com/2019/11/12/net-a-porter-offers-designer-deals-for-its-friends-and-family-sale/\n",
      "https://nypost.com/2019/11/12/homeless-man-hurls-bucket-of-diarrhea-at-woman-near-hollywood-walk-of-fame/\n",
      "https://nypost.com/2019/11/12/venice-flooding-forces-tourists-locals-to-get-creative-amid-high-water/\n",
      "https://nypost.com/2019/11/12/mma-fighter-tara-larosa-takes-down-anti-trump-protester-in-oregon/\n",
      "https://nypost.com/2019/11/12/german-intelligence-agencies-open-new-spy-school-in-berlin/\n",
      "https://nypost.com/2019/11/12/carrie-underwoods-style-evolution-from-down-home-to-diva/\n",
      "https://nypost.com/2019/11/12/cat-with-bulging-googly-eyes-becomes-an-internet-sensation/\n",
      "https://nypost.com/2019/11/12/staffers-blast-facebooks-black-people-problem-in-open-letter/\n",
      "https://nypost.com/2019/11/12/nikki-haley-defends-trumps-ukraine-call-in-heated-today-interview/\n",
      "https://nypost.com/2019/11/12/carlos-beltran-astros-stole-signs-but-not-illegally/\n",
      "https://nypost.com/2019/11/12/woman-charged-with-murder-of-army-vet-working-as-pizza-driver/\n",
      "https://nypost.com/2019/11/12/taxi-bursts-into-flames-on-the-upper-east-side/\n",
      "https://nypost.com/2019/11/12/nypd-transit-chief-blames-subway-incidents-on-lack-of-cooperation/\n",
      "https://nypost.com/2019/11/12/seahawks-star-tyler-lockett-hospitalized-with-severe-injury/\n",
      "https://nypost.com/2019/11/12/white-queens-cop-says-black-supervisor-harassed-her-for-dating-african-american-man/\n",
      "https://nypost.com/2019/11/12/tina-star-daniel-j-watts-says-ike-turner-has-paid-his-dues/\n",
      "https://nypost.com/2019/11/12/adam-driver-stars-in-dull-torture-porn-movie-the-report/\n",
      "https://nypost.com/2019/11/12/epstein-accuser-says-ghislaine-maxwell-made-death-threat-after-she-reported-abuse/\n",
      "https://nypost.com/2019/11/12/first-vaper-to-get-double-lung-transplant-is-teen-former-athlete/\n",
      "https://nypost.com/2019/11/12/former-astros-pitcher-mike-fiers-says-team-electronically-stole-signs-in-2017/\n",
      "https://nypost.com/2019/11/12/riders-panic-after-maniac-hijacks-1-train-intercom-shouts-i-have-a-f-king-gun/\n",
      "https://nypost.com/2019/11/12/peta-sells-150-wool-hurts-sweater-featuring-bloody-sheep/\n",
      "https://nypost.com/2019/11/12/largest-milk-maker-in-us-files-for-bankruptcy-blames-alt-milks/\n",
      "https://nypost.com/2019/11/12/nissan-cuts-profit-forecast-after-70-percent-quarterly-plunge/\n",
      "https://nypost.com/2019/11/12/former-bolivian-president-evo-morales-begins-exile-in-mexico/\n",
      "https://nypost.com/2019/11/12/texas-family-wins-last-minute-ruling-to-keep-sick-baby-on-life-support/\n",
      "https://nypost.com/2019/11/12/kristaps-porzingis-flops-after-ungodly-mark-cuban-jinx/\n",
      "https://nypost.com/2019/11/12/arbys-posts-sign-saying-only-well-behaved-children-are-welcome/\n",
      "https://nypost.com/2019/11/12/will-ferrell-set-to-host-saturday-night-live-for-fifth-time/\n",
      "https://nypost.com/2019/11/12/mariners-euphoric-over-looming-mets-nightmare-jarred-kelenic/\n",
      "https://nypost.com/2019/11/12/google-defends-amassing-health-data-on-millions-of-people/\n",
      "https://nypost.com/2019/11/12/the-nyc-zagat-restaurant-guide-is-back/\n",
      "https://nypost.com/2019/11/12/grisly-details-emerge-in-case-of-slain-backpacker-grace-millane/\n",
      "https://nypost.com/2019/11/12/mcdonalds-workers-sue-to-address-systemic-problem-of-sexual-harassment/\n",
      "https://nypost.com/2019/11/12/disney-launches-everything-you-need-to-know/\n",
      "https://nypost.com/2019/11/12/tv-producer-cites-her-bipolar-disorder-in-civil-rights-lawsuit-against-employer-al-jazeera/\n"
     ]
    }
   ],
   "source": [
    "for link in parsed_html.absolute_links:\n",
    "    if '2019/11/12' in link and 'nypost' in link:\n",
    "        print(link)"
   ]
  },
  {
   "cell_type": "code",
   "execution_count": 30,
   "metadata": {},
   "outputs": [
    {
     "data": {
      "text/html": [
       "<div>\n",
       "<style scoped>\n",
       "    .dataframe tbody tr th:only-of-type {\n",
       "        vertical-align: middle;\n",
       "    }\n",
       "\n",
       "    .dataframe tbody tr th {\n",
       "        vertical-align: top;\n",
       "    }\n",
       "\n",
       "    .dataframe thead th {\n",
       "        text-align: right;\n",
       "    }\n",
       "</style>\n",
       "<table border=\"1\" class=\"dataframe\">\n",
       "  <thead>\n",
       "    <tr style=\"text-align: right;\">\n",
       "      <th></th>\n",
       "      <th>headline</th>\n",
       "      <th>text</th>\n",
       "    </tr>\n",
       "  </thead>\n",
       "  <tbody>\n",
       "    <tr>\n",
       "      <th>0</th>\n",
       "      <td>McDonald’s workers sue to address ‘systemic pr...</td>\n",
       "      <td>McDonald’s workers are filing a lawsuit seekin...</td>\n",
       "    </tr>\n",
       "  </tbody>\n",
       "</table>\n",
       "</div>"
      ],
      "text/plain": [
       "                                            headline  \\\n",
       "0  McDonald’s workers sue to address ‘systemic pr...   \n",
       "\n",
       "                                                text  \n",
       "0  McDonald’s workers are filing a lawsuit seekin...  "
      ]
     },
     "execution_count": 30,
     "metadata": {},
     "output_type": "execute_result"
    }
   ],
   "source": [
    "url = 'https://nypost.com/2019/11/12/mcdonalds-workers-sue-to-address-systemic-problem-of-sexual-harassment/'\n",
    "\n",
    "r = session.get(url)\n",
    "parsed_html = r.html\n",
    "d = {'text' : parsed_html.find('.entry-content')[0].text,\n",
    "     'headline' : parsed_html.find('h1')[0].text }\n",
    "pd.DataFrame([d])"
   ]
  },
  {
   "cell_type": "code",
   "execution_count": 32,
   "metadata": {},
   "outputs": [
    {
     "data": {
      "text/plain": [
       "[<Element 'p' class=('contact-submit',)>, <Element 'p' class=('byline-date',)>]"
      ]
     },
     "execution_count": 32,
     "metadata": {},
     "output_type": "execute_result"
    }
   ],
   "source": []
  },
  {
   "cell_type": "code",
   "execution_count": 29,
   "metadata": {},
   "outputs": [
    {
     "data": {
      "text/html": [
       "<div>\n",
       "<style scoped>\n",
       "    .dataframe tbody tr th:only-of-type {\n",
       "        vertical-align: middle;\n",
       "    }\n",
       "\n",
       "    .dataframe tbody tr th {\n",
       "        vertical-align: top;\n",
       "    }\n",
       "\n",
       "    .dataframe thead th {\n",
       "        text-align: right;\n",
       "    }\n",
       "</style>\n",
       "<table border=\"1\" class=\"dataframe\">\n",
       "  <thead>\n",
       "    <tr style=\"text-align: right;\">\n",
       "      <th></th>\n",
       "      <th>headline</th>\n",
       "      <th>text</th>\n",
       "    </tr>\n",
       "  </thead>\n",
       "  <tbody>\n",
       "    <tr>\n",
       "      <th>0</th>\n",
       "      <td>The NYC Zagat restaurant guide is back</td>\n",
       "      <td>Swipe left on restaurant “hot lists.” Toss the...</td>\n",
       "    </tr>\n",
       "  </tbody>\n",
       "</table>\n",
       "</div>"
      ],
      "text/plain": [
       "                                 headline  \\\n",
       "0  The NYC Zagat restaurant guide is back   \n",
       "\n",
       "                                                text  \n",
       "0  Swipe left on restaurant “hot lists.” Toss the...  "
      ]
     },
     "execution_count": 29,
     "metadata": {},
     "output_type": "execute_result"
    }
   ],
   "source": []
  },
  {
   "cell_type": "code",
   "execution_count": 59,
   "metadata": {},
   "outputs": [],
   "source": [
    "url = 'https://www.justice.gov/opa/pr/justice-department-settles-immigration-related-discrimination-claim-against-florida-based'"
   ]
  },
  {
   "cell_type": "code",
   "execution_count": 34,
   "metadata": {},
   "outputs": [],
   "source": [
    "session = HTMLSession()"
   ]
  },
  {
   "cell_type": "code",
   "execution_count": 39,
   "metadata": {},
   "outputs": [],
   "source": []
  },
  {
   "cell_type": "code",
   "execution_count": 60,
   "metadata": {},
   "outputs": [],
   "source": [
    "r = session.get(url)\n",
    "parsed_html = r.html\n",
    "date = parsed_html.find('.field__items')[0].text\n",
    "text = parsed_html.find('.field__items')[2].text\n",
    "headline = parsed_html.find('.field__items')[1].text"
   ]
  },
  {
   "cell_type": "code",
   "execution_count": 64,
   "metadata": {},
   "outputs": [
    {
     "data": {
      "text/plain": [
       "'Download fnl.set_.perspective_talent.pdf'"
      ]
     },
     "execution_count": 64,
     "metadata": {},
     "output_type": "execute_result"
    }
   ],
   "source": [
    "parsed_html.find('.field__items')[1].text"
   ]
  },
  {
   "cell_type": "code",
   "execution_count": 58,
   "metadata": {},
   "outputs": [
    {
     "data": {
      "text/plain": [
       "'Ali Alzabarah, Ahmad Abouammo, and Ahmed Almutairi, aka Ahmed Aljbreen, were charged for their respective roles in accessing private information in the accounts of certain Twitter users and providing that information to officials of the Kingdom of Saudi Arabia. \\xa0Abouammo was arrested in Seattle, Washington, on Nov. 5, 2019. \\xa0All three defendants are charged with acting as illegal agents of a foreign government; and Abouammo also is charged with destroying, altering, or falsifying records in a federal investigation.\\n“Acting in the United States under the direction and control of Saudi officials, the defendants are alleged to have obtained private, identifying information about users of Twitter who were critical of the Saudi government,” said Assistant Attorney General for National Security John C. Demers.\\xa0 “Two of the defendants – Alzabarah and Abouammo – are former Twitter employees who violated their terms of employment to access this information in exchange for money and other benefits.\\xa0 Aside from being criminal, their conduct was contrary to the free speech principles on which this country was founded.”\\n“These charges make clear that the FBI will diligently pursue those who show a blatant disregard for the laws and democratic principles that define us as a country,\" said Executive Assistant Director Jay Tabb of the FBI’s National Security Branch. “We will continue to use all of the tools at our disposal to carry out our mission. I would like to thank the men and women of the FBI\\'s San Francisco and Seattle Field Offices as well as the Counterintelligence Division for their tireless commitment to bring these individuals to justice.”\\n“The FBI will not stand by and allow foreign governments to illegally exploit private user information from U.S. companies.\\xa0 These individuals are charged with targeting and obtaining private data from dissidents and known critics, under the direction and control of the government of Saudi Arabia,” said FBI Special Agent in Charge John F. Bennett.\\xa0 “Insider threats pose a critical threat to American businesses and our national security.”\\nAlzabarah, 35, of Saudi Arabia, and Abouammo, 41, of Seattle, Washington, were Twitter employees.\\xa0 According to the complaint, between November of 2014 and May of 2015, Almutairi, 30, of Saudi Arabia, and foreign officials of the Kingdom of Saudi Arabia convinced Abouammo and Alzabarah to use their employee credentials to gain access without authorization to certain nonpublic information about the individuals behind certain Twitter accounts.\\xa0 Specifically, representatives of the Kingdom of Saudi Arabia and the Saudi Royal Family sought the private information of Twitter users who had been critical of the regime.\\xa0 Such private user information included their email addresses, phone numbers, IP addresses, and dates of birth.\\xa0 This information could have been used to identify and locate the Twitter users who published these posts.\\xa0 The complaint alleges that Abouammo was compensated for his illicit conduct, including through the provision of a luxury watch and cash.\\xa0 Almutairi is alleged to have arranged meetings, acted as a go-between, and facilitated communications between the Saudi government and the other defendants.\\nThe complaint also contains allegations regarding the reaction of Alzabarah upon being confronted by Twitter about his violations of Twitter policy.\\xa0 According to the complaint, when Alzabarah was confronted by Twitter’s management about accessing users’ information, he sought assistance from Almutairi and others to flee the United States.\\xa0 Alzabarah left the country the next day and submitted his resignation from Twitter by email while en route.\\xa0 Shortly after his return to Saudi Arabia, Alzabarah obtained employment through which he continued to work on behalf the Kingdom.\\xa0 With respect to Abouammo, the complaint alleges FBI agents confronted him in October 2018 about his activities on behalf of officials of the Kingdom of Saudi Arabia.\\xa0 In response, Abouammo allegedly lied to the agents and provided them with a falsified invoice in an effort to obstruct the investigation.\\nAbouammo was arrested in Seattle, Washington, on Nov. 5, 2019, and made his initial federal court appearance in Seattle at 2:00 p.m.on Nov. 6, 2019.\\xa0 Alzabarah and Almutairi are believed to be in Saudi Arabia.\\xa0 Federal warrants have been issued for their arrest.\\nA complaint merely alleges that crimes have been committed, and all defendants are presumed innocent until proven guilty beyond a reasonable doubt. If convicted, all three defendants face maximum statutory sentence of 10 years in prison and a $250,000 fine for acting as an agent of a foreign government without notification to the Attorney General, in violation of 18 U.S.C. §\\xa0951.\\xa0 In addition, Abouammo faces an additional 20 years in prison and a $250,000 fine for destroying, altering, or falsifying records, in violation of 18 U.S.C. §\\xa01519.\\xa0 Further, the court may order restitution, if appropriate, and additional periods of supervised release.\\xa0 However, any sentence following conviction would be imposed by the court only after consideration of the U.S. Sentencing Guidelines and the federal statute governing the imposition of a sentence, 18 U.S.C. § 3553.\\nThe case is being prosecuted by the Special Prosecutions and National Security Unit of the United States Attorney’s Office for the Northern District of California and the Counterintelligence and Export Control Section of the National Security Division.\\xa0 The prosecution is the result of an investigation by the Federal Bureau of Investigation.'"
      ]
     },
     "execution_count": 58,
     "metadata": {},
     "output_type": "execute_result"
    }
   ],
   "source": [
    "parsed_html.find('.field__items')[].text"
   ]
  },
  {
   "cell_type": "code",
   "execution_count": 65,
   "metadata": {},
   "outputs": [],
   "source": [
    "page = 'Bad header\\nGood information\\nID Data:\\nBadinfo'"
   ]
  },
  {
   "cell_type": "code",
   "execution_count": 66,
   "metadata": {},
   "outputs": [
    {
     "name": "stdout",
     "output_type": "stream",
     "text": [
      "Bad header\n",
      "Good information\n",
      "ID Data:\n",
      "Badinfo\n"
     ]
    }
   ],
   "source": [
    "print(page)"
   ]
  },
  {
   "cell_type": "code",
   "execution_count": 69,
   "metadata": {},
   "outputs": [
    {
     "data": {
      "text/plain": [
       "['Good information', 'ID Data:', 'Badinfo']"
      ]
     },
     "execution_count": 69,
     "metadata": {},
     "output_type": "execute_result"
    }
   ],
   "source": [
    "text = ''\n",
    "for line in page.splitlines():\n",
    "    if line == 'ID Data:'\n",
    "        valid_text = False\n",
    "    if line == \"E\"\n",
    "    if valid_text = True:\n",
    "        text = text + line\n",
    "        \n",
    "    "
   ]
  },
  {
   "cell_type": "code",
   "execution_count": null,
   "metadata": {},
   "outputs": [],
   "source": []
  }
 ],
 "metadata": {
  "kernelspec": {
   "display_name": "Python 3",
   "language": "python",
   "name": "python3"
  },
  "language_info": {
   "codemirror_mode": {
    "name": "ipython",
    "version": 3
   },
   "file_extension": ".py",
   "mimetype": "text/x-python",
   "name": "python",
   "nbconvert_exporter": "python",
   "pygments_lexer": "ipython3",
   "version": "3.6.9"
  }
 },
 "nbformat": 4,
 "nbformat_minor": 2
}
