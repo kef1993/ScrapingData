{
 "cells": [
  {
   "cell_type": "markdown",
   "metadata": {
    "slideshow": {
     "slide_type": "slide"
    }
   },
   "source": [
    "# Data management and exploration in pandas\n"
   ]
  },
  {
   "cell_type": "markdown",
   "metadata": {
    "slideshow": {
     "slide_type": "skip"
    }
   },
   "source": [
    "\n",
    "This section provides a brief introduction to pandas. The pandas library is a key component for doing data science in Python for a couple of reasons. Most importantly, it provides two data types, series and data frame, that allow you to store and manipulate data in a way that is useful for analysis. Second, it is incredibly useful for importing and exporting data in a wide variety of formats. Finally, it makes descriptive analysis, including both summary statistics and visualizations. This section provides an introduction to the main capabilities of pandas relevant to data analysis. "
   ]
  },
  {
   "cell_type": "markdown",
   "metadata": {
    "slideshow": {
     "slide_type": "skip"
    }
   },
   "source": [
    "Most of the things that you will want to do in Python require importing libraries. By convention, pandas is imported as `pd`. Additionally, we enable the ability for pandas graphics to be displayed within the notebook with `%matplotlib inline`. "
   ]
  },
  {
   "cell_type": "code",
   "execution_count": 1,
   "metadata": {
    "slideshow": {
     "slide_type": "slide"
    }
   },
   "outputs": [],
   "source": [
    "import pandas as pd\n",
    "\n",
    "%matplotlib inline"
   ]
  },
  {
   "cell_type": "markdown",
   "metadata": {
    "slideshow": {
     "slide_type": "slide"
    }
   },
   "source": [
    "## Reading data"
   ]
  },
  {
   "cell_type": "markdown",
   "metadata": {
    "slideshow": {
     "slide_type": "slide"
    }
   },
   "source": [
    "In the summer of 2017, the Washington Post produced a [report](https://www.washingtonpost.com/graphics/2018/investigations/unsolved-homicide-database/) on murder clearance rates in U.S. cities. They also released the [data](https://github.com/washingtonpost/data-homicides) they collected on Github as a csv file. We can create a new dataframe, called `df`, using the [pandas](https://pandas.pydata.org/pandas-docs/stable/generated/pandas.read_csv.html) `read_csv` method.  "
   ]
  },
  {
   "cell_type": "code",
   "execution_count": 2,
   "metadata": {
    "slideshow": {
     "slide_type": "fragment"
    }
   },
   "outputs": [],
   "source": [
    "df = pd.read_csv('data/homicide.csv')"
   ]
  },
  {
   "cell_type": "code",
   "execution_count": 3,
   "metadata": {
    "slideshow": {
     "slide_type": "slide"
    }
   },
   "outputs": [
    {
     "data": {
      "text/html": [
       "<div>\n",
       "<style scoped>\n",
       "    .dataframe tbody tr th:only-of-type {\n",
       "        vertical-align: middle;\n",
       "    }\n",
       "\n",
       "    .dataframe tbody tr th {\n",
       "        vertical-align: top;\n",
       "    }\n",
       "\n",
       "    .dataframe thead th {\n",
       "        text-align: right;\n",
       "    }\n",
       "</style>\n",
       "<table border=\"1\" class=\"dataframe\">\n",
       "  <thead>\n",
       "    <tr style=\"text-align: right;\">\n",
       "      <th></th>\n",
       "      <th>uid</th>\n",
       "      <th>reported_date</th>\n",
       "      <th>victim_last</th>\n",
       "      <th>victim_first</th>\n",
       "      <th>victim_race</th>\n",
       "      <th>victim_age</th>\n",
       "      <th>victim_sex</th>\n",
       "      <th>city</th>\n",
       "      <th>state</th>\n",
       "      <th>lat</th>\n",
       "      <th>lon</th>\n",
       "      <th>disposition</th>\n",
       "    </tr>\n",
       "  </thead>\n",
       "  <tbody>\n",
       "    <tr>\n",
       "      <th>0</th>\n",
       "      <td>Alb-000001</td>\n",
       "      <td>20100504</td>\n",
       "      <td>GARCIA</td>\n",
       "      <td>JUAN</td>\n",
       "      <td>Hispanic</td>\n",
       "      <td>78.0</td>\n",
       "      <td>Male</td>\n",
       "      <td>Albuquerque</td>\n",
       "      <td>NM</td>\n",
       "      <td>35.095788</td>\n",
       "      <td>-106.538555</td>\n",
       "      <td>Closed without arrest</td>\n",
       "    </tr>\n",
       "    <tr>\n",
       "      <th>1</th>\n",
       "      <td>Alb-000002</td>\n",
       "      <td>20100216</td>\n",
       "      <td>MONTOYA</td>\n",
       "      <td>CAMERON</td>\n",
       "      <td>Hispanic</td>\n",
       "      <td>17.0</td>\n",
       "      <td>Male</td>\n",
       "      <td>Albuquerque</td>\n",
       "      <td>NM</td>\n",
       "      <td>35.056810</td>\n",
       "      <td>-106.715321</td>\n",
       "      <td>Closed by arrest</td>\n",
       "    </tr>\n",
       "    <tr>\n",
       "      <th>2</th>\n",
       "      <td>Alb-000003</td>\n",
       "      <td>20100601</td>\n",
       "      <td>SATTERFIELD</td>\n",
       "      <td>VIVIANA</td>\n",
       "      <td>White</td>\n",
       "      <td>15.0</td>\n",
       "      <td>Female</td>\n",
       "      <td>Albuquerque</td>\n",
       "      <td>NM</td>\n",
       "      <td>35.086092</td>\n",
       "      <td>-106.695568</td>\n",
       "      <td>Closed without arrest</td>\n",
       "    </tr>\n",
       "    <tr>\n",
       "      <th>3</th>\n",
       "      <td>Alb-000004</td>\n",
       "      <td>20100101</td>\n",
       "      <td>MENDIOLA</td>\n",
       "      <td>CARLOS</td>\n",
       "      <td>Hispanic</td>\n",
       "      <td>32.0</td>\n",
       "      <td>Male</td>\n",
       "      <td>Albuquerque</td>\n",
       "      <td>NM</td>\n",
       "      <td>35.078493</td>\n",
       "      <td>-106.556094</td>\n",
       "      <td>Closed by arrest</td>\n",
       "    </tr>\n",
       "    <tr>\n",
       "      <th>4</th>\n",
       "      <td>Alb-000005</td>\n",
       "      <td>20100102</td>\n",
       "      <td>MULA</td>\n",
       "      <td>VIVIAN</td>\n",
       "      <td>White</td>\n",
       "      <td>72.0</td>\n",
       "      <td>Female</td>\n",
       "      <td>Albuquerque</td>\n",
       "      <td>NM</td>\n",
       "      <td>35.130357</td>\n",
       "      <td>-106.580986</td>\n",
       "      <td>Closed without arrest</td>\n",
       "    </tr>\n",
       "    <tr>\n",
       "      <th>5</th>\n",
       "      <td>Alb-000006</td>\n",
       "      <td>20100126</td>\n",
       "      <td>BOOK</td>\n",
       "      <td>GERALDINE</td>\n",
       "      <td>White</td>\n",
       "      <td>91.0</td>\n",
       "      <td>Female</td>\n",
       "      <td>Albuquerque</td>\n",
       "      <td>NM</td>\n",
       "      <td>35.151110</td>\n",
       "      <td>-106.537797</td>\n",
       "      <td>Open/No arrest</td>\n",
       "    </tr>\n",
       "    <tr>\n",
       "      <th>6</th>\n",
       "      <td>Alb-000007</td>\n",
       "      <td>20100127</td>\n",
       "      <td>MALDONADO</td>\n",
       "      <td>DAVID</td>\n",
       "      <td>Hispanic</td>\n",
       "      <td>52.0</td>\n",
       "      <td>Male</td>\n",
       "      <td>Albuquerque</td>\n",
       "      <td>NM</td>\n",
       "      <td>35.111785</td>\n",
       "      <td>-106.712614</td>\n",
       "      <td>Closed by arrest</td>\n",
       "    </tr>\n",
       "    <tr>\n",
       "      <th>7</th>\n",
       "      <td>Alb-000008</td>\n",
       "      <td>20100127</td>\n",
       "      <td>MALDONADO</td>\n",
       "      <td>CONNIE</td>\n",
       "      <td>Hispanic</td>\n",
       "      <td>52.0</td>\n",
       "      <td>Female</td>\n",
       "      <td>Albuquerque</td>\n",
       "      <td>NM</td>\n",
       "      <td>35.111785</td>\n",
       "      <td>-106.712614</td>\n",
       "      <td>Closed by arrest</td>\n",
       "    </tr>\n",
       "    <tr>\n",
       "      <th>8</th>\n",
       "      <td>Alb-000009</td>\n",
       "      <td>20100130</td>\n",
       "      <td>MARTIN-LEYVA</td>\n",
       "      <td>GUSTAVO</td>\n",
       "      <td>White</td>\n",
       "      <td>56.0</td>\n",
       "      <td>Male</td>\n",
       "      <td>Albuquerque</td>\n",
       "      <td>NM</td>\n",
       "      <td>35.075380</td>\n",
       "      <td>-106.553458</td>\n",
       "      <td>Open/No arrest</td>\n",
       "    </tr>\n",
       "    <tr>\n",
       "      <th>9</th>\n",
       "      <td>Alb-000010</td>\n",
       "      <td>20100210</td>\n",
       "      <td>HERRERA</td>\n",
       "      <td>ISRAEL</td>\n",
       "      <td>Hispanic</td>\n",
       "      <td>43.0</td>\n",
       "      <td>Male</td>\n",
       "      <td>Albuquerque</td>\n",
       "      <td>NM</td>\n",
       "      <td>35.065930</td>\n",
       "      <td>-106.572288</td>\n",
       "      <td>Open/No arrest</td>\n",
       "    </tr>\n",
       "    <tr>\n",
       "      <th>10</th>\n",
       "      <td>Alb-000011</td>\n",
       "      <td>20100212</td>\n",
       "      <td>BARRIUS-CAMPANIONI</td>\n",
       "      <td>HECTOR</td>\n",
       "      <td>Hispanic</td>\n",
       "      <td>20.0</td>\n",
       "      <td>Male</td>\n",
       "      <td>Albuquerque</td>\n",
       "      <td>NM</td>\n",
       "      <td>35.077375</td>\n",
       "      <td>-106.560569</td>\n",
       "      <td>Closed by arrest</td>\n",
       "    </tr>\n",
       "    <tr>\n",
       "      <th>11</th>\n",
       "      <td>Alb-000012</td>\n",
       "      <td>20100218</td>\n",
       "      <td>LUJAN</td>\n",
       "      <td>KEVIN</td>\n",
       "      <td>White</td>\n",
       "      <td>NaN</td>\n",
       "      <td>Male</td>\n",
       "      <td>Albuquerque</td>\n",
       "      <td>NM</td>\n",
       "      <td>35.077011</td>\n",
       "      <td>-106.564910</td>\n",
       "      <td>Closed without arrest</td>\n",
       "    </tr>\n",
       "    <tr>\n",
       "      <th>12</th>\n",
       "      <td>Alb-000013</td>\n",
       "      <td>20100222</td>\n",
       "      <td>COLLAMORE</td>\n",
       "      <td>JOHN</td>\n",
       "      <td>Hispanic</td>\n",
       "      <td>46.0</td>\n",
       "      <td>Male</td>\n",
       "      <td>Albuquerque</td>\n",
       "      <td>NM</td>\n",
       "      <td>35.064076</td>\n",
       "      <td>-106.608281</td>\n",
       "      <td>Open/No arrest</td>\n",
       "    </tr>\n",
       "    <tr>\n",
       "      <th>13</th>\n",
       "      <td>Alb-000014</td>\n",
       "      <td>20100306</td>\n",
       "      <td>CHIQUITO</td>\n",
       "      <td>CORIN</td>\n",
       "      <td>Other</td>\n",
       "      <td>16.0</td>\n",
       "      <td>Male</td>\n",
       "      <td>Albuquerque</td>\n",
       "      <td>NM</td>\n",
       "      <td>35.041491</td>\n",
       "      <td>-106.742147</td>\n",
       "      <td>Closed by arrest</td>\n",
       "    </tr>\n",
       "    <tr>\n",
       "      <th>14</th>\n",
       "      <td>Alb-000015</td>\n",
       "      <td>20100308</td>\n",
       "      <td>TORRES</td>\n",
       "      <td>HECTOR</td>\n",
       "      <td>Hispanic</td>\n",
       "      <td>54.0</td>\n",
       "      <td>Male</td>\n",
       "      <td>Albuquerque</td>\n",
       "      <td>NM</td>\n",
       "      <td>35.070656</td>\n",
       "      <td>-106.615845</td>\n",
       "      <td>Closed by arrest</td>\n",
       "    </tr>\n",
       "    <tr>\n",
       "      <th>15</th>\n",
       "      <td>Alb-000016</td>\n",
       "      <td>20100308</td>\n",
       "      <td>GRAY</td>\n",
       "      <td>STEFANIA</td>\n",
       "      <td>White</td>\n",
       "      <td>43.0</td>\n",
       "      <td>Female</td>\n",
       "      <td>Albuquerque</td>\n",
       "      <td>NM</td>\n",
       "      <td>35.070656</td>\n",
       "      <td>-106.615845</td>\n",
       "      <td>Closed by arrest</td>\n",
       "    </tr>\n",
       "    <tr>\n",
       "      <th>16</th>\n",
       "      <td>Alb-000017</td>\n",
       "      <td>20100322</td>\n",
       "      <td>LEYVA</td>\n",
       "      <td>JOEL</td>\n",
       "      <td>Hispanic</td>\n",
       "      <td>52.0</td>\n",
       "      <td>Male</td>\n",
       "      <td>Albuquerque</td>\n",
       "      <td>NM</td>\n",
       "      <td>35.079082</td>\n",
       "      <td>-106.495949</td>\n",
       "      <td>Closed by arrest</td>\n",
       "    </tr>\n",
       "    <tr>\n",
       "      <th>17</th>\n",
       "      <td>Alb-000018</td>\n",
       "      <td>20100323</td>\n",
       "      <td>DAVID</td>\n",
       "      <td>LARRY</td>\n",
       "      <td>White</td>\n",
       "      <td>52.0</td>\n",
       "      <td>Male</td>\n",
       "      <td>Albuquerque</td>\n",
       "      <td>NM</td>\n",
       "      <td>NaN</td>\n",
       "      <td>NaN</td>\n",
       "      <td>Closed by arrest</td>\n",
       "    </tr>\n",
       "    <tr>\n",
       "      <th>18</th>\n",
       "      <td>Alb-000019</td>\n",
       "      <td>20100402</td>\n",
       "      <td>BRITO</td>\n",
       "      <td>ELIZABETH</td>\n",
       "      <td>White</td>\n",
       "      <td>22.0</td>\n",
       "      <td>Female</td>\n",
       "      <td>Albuquerque</td>\n",
       "      <td>NM</td>\n",
       "      <td>35.110404</td>\n",
       "      <td>-106.523668</td>\n",
       "      <td>Closed by arrest</td>\n",
       "    </tr>\n",
       "    <tr>\n",
       "      <th>19</th>\n",
       "      <td>Alb-000020</td>\n",
       "      <td>20100420</td>\n",
       "      <td>CHAVEZ</td>\n",
       "      <td>GREG SR.</td>\n",
       "      <td>Hispanic</td>\n",
       "      <td>49.0</td>\n",
       "      <td>Male</td>\n",
       "      <td>Albuquerque</td>\n",
       "      <td>NM</td>\n",
       "      <td>35.089573</td>\n",
       "      <td>-106.570078</td>\n",
       "      <td>Closed by arrest</td>\n",
       "    </tr>\n",
       "    <tr>\n",
       "      <th>20</th>\n",
       "      <td>Alb-000021</td>\n",
       "      <td>20100423</td>\n",
       "      <td>KING</td>\n",
       "      <td>TEVION</td>\n",
       "      <td>Black</td>\n",
       "      <td>15.0</td>\n",
       "      <td>Male</td>\n",
       "      <td>Albuquerque</td>\n",
       "      <td>NM</td>\n",
       "      <td>35.095887</td>\n",
       "      <td>-106.638081</td>\n",
       "      <td>Closed by arrest</td>\n",
       "    </tr>\n",
       "    <tr>\n",
       "      <th>21</th>\n",
       "      <td>Alb-000022</td>\n",
       "      <td>20100423</td>\n",
       "      <td>BOYKIN</td>\n",
       "      <td>CEDRIC</td>\n",
       "      <td>Black</td>\n",
       "      <td>25.0</td>\n",
       "      <td>Male</td>\n",
       "      <td>Albuquerque</td>\n",
       "      <td>NM</td>\n",
       "      <td>35.095887</td>\n",
       "      <td>-106.638081</td>\n",
       "      <td>Closed by arrest</td>\n",
       "    </tr>\n",
       "    <tr>\n",
       "      <th>22</th>\n",
       "      <td>Alb-000023</td>\n",
       "      <td>20100518</td>\n",
       "      <td>BARRAGAN</td>\n",
       "      <td>MIGUEL</td>\n",
       "      <td>White</td>\n",
       "      <td>20.0</td>\n",
       "      <td>Male</td>\n",
       "      <td>Albuquerque</td>\n",
       "      <td>NM</td>\n",
       "      <td>35.083401</td>\n",
       "      <td>-106.632941</td>\n",
       "      <td>Closed by arrest</td>\n",
       "    </tr>\n",
       "    <tr>\n",
       "      <th>23</th>\n",
       "      <td>Alb-000024</td>\n",
       "      <td>20100602</td>\n",
       "      <td>FORD</td>\n",
       "      <td>LUTHER</td>\n",
       "      <td>Other</td>\n",
       "      <td>47.0</td>\n",
       "      <td>Male</td>\n",
       "      <td>Albuquerque</td>\n",
       "      <td>NM</td>\n",
       "      <td>35.102423</td>\n",
       "      <td>-106.567674</td>\n",
       "      <td>Closed by arrest</td>\n",
       "    </tr>\n",
       "    <tr>\n",
       "      <th>24</th>\n",
       "      <td>Alb-000025</td>\n",
       "      <td>20100602</td>\n",
       "      <td>WRONSKI</td>\n",
       "      <td>VIOLA</td>\n",
       "      <td>White</td>\n",
       "      <td>88.0</td>\n",
       "      <td>Female</td>\n",
       "      <td>Albuquerque</td>\n",
       "      <td>NM</td>\n",
       "      <td>35.095956</td>\n",
       "      <td>-106.561135</td>\n",
       "      <td>Closed without arrest</td>\n",
       "    </tr>\n",
       "    <tr>\n",
       "      <th>25</th>\n",
       "      <td>Alb-000026</td>\n",
       "      <td>20100603</td>\n",
       "      <td>ASHFORD</td>\n",
       "      <td>GUADALUPE</td>\n",
       "      <td>Hispanic</td>\n",
       "      <td>27.0</td>\n",
       "      <td>Female</td>\n",
       "      <td>Albuquerque</td>\n",
       "      <td>NM</td>\n",
       "      <td>35.078462</td>\n",
       "      <td>-106.551755</td>\n",
       "      <td>Closed by arrest</td>\n",
       "    </tr>\n",
       "    <tr>\n",
       "      <th>26</th>\n",
       "      <td>Alb-000027</td>\n",
       "      <td>20100712</td>\n",
       "      <td>TURNER</td>\n",
       "      <td>MICHELLE</td>\n",
       "      <td>White</td>\n",
       "      <td>36.0</td>\n",
       "      <td>Female</td>\n",
       "      <td>Albuquerque</td>\n",
       "      <td>NM</td>\n",
       "      <td>35.053748</td>\n",
       "      <td>-106.531800</td>\n",
       "      <td>Closed without arrest</td>\n",
       "    </tr>\n",
       "    <tr>\n",
       "      <th>27</th>\n",
       "      <td>Alb-000028</td>\n",
       "      <td>20100712</td>\n",
       "      <td>CUNNINGHAM</td>\n",
       "      <td>SHARON</td>\n",
       "      <td>White</td>\n",
       "      <td>47.0</td>\n",
       "      <td>Female</td>\n",
       "      <td>Albuquerque</td>\n",
       "      <td>NM</td>\n",
       "      <td>35.053748</td>\n",
       "      <td>-106.531800</td>\n",
       "      <td>Closed without arrest</td>\n",
       "    </tr>\n",
       "    <tr>\n",
       "      <th>28</th>\n",
       "      <td>Alb-000029</td>\n",
       "      <td>20100726</td>\n",
       "      <td>NGUYEN</td>\n",
       "      <td>SELENAVI</td>\n",
       "      <td>Asian</td>\n",
       "      <td>1.0</td>\n",
       "      <td>Female</td>\n",
       "      <td>Albuquerque</td>\n",
       "      <td>NM</td>\n",
       "      <td>35.064456</td>\n",
       "      <td>-106.524458</td>\n",
       "      <td>Closed without arrest</td>\n",
       "    </tr>\n",
       "    <tr>\n",
       "      <th>29</th>\n",
       "      <td>Alb-000030</td>\n",
       "      <td>20100728</td>\n",
       "      <td>VALDEZ</td>\n",
       "      <td>BILL</td>\n",
       "      <td>Hispanic</td>\n",
       "      <td>58.0</td>\n",
       "      <td>Male</td>\n",
       "      <td>Albuquerque</td>\n",
       "      <td>NM</td>\n",
       "      <td>35.061827</td>\n",
       "      <td>-106.749104</td>\n",
       "      <td>Open/No arrest</td>\n",
       "    </tr>\n",
       "    <tr>\n",
       "      <th>...</th>\n",
       "      <td>...</td>\n",
       "      <td>...</td>\n",
       "      <td>...</td>\n",
       "      <td>...</td>\n",
       "      <td>...</td>\n",
       "      <td>...</td>\n",
       "      <td>...</td>\n",
       "      <td>...</td>\n",
       "      <td>...</td>\n",
       "      <td>...</td>\n",
       "      <td>...</td>\n",
       "      <td>...</td>\n",
       "    </tr>\n",
       "    <tr>\n",
       "      <th>52149</th>\n",
       "      <td>Was-001353</td>\n",
       "      <td>20160324</td>\n",
       "      <td>TURNER</td>\n",
       "      <td>GABRIEL</td>\n",
       "      <td>Black</td>\n",
       "      <td>46.0</td>\n",
       "      <td>Male</td>\n",
       "      <td>Washington</td>\n",
       "      <td>DC</td>\n",
       "      <td>38.857628</td>\n",
       "      <td>-76.996482</td>\n",
       "      <td>Closed by arrest</td>\n",
       "    </tr>\n",
       "    <tr>\n",
       "      <th>52150</th>\n",
       "      <td>Was-001355</td>\n",
       "      <td>20160518</td>\n",
       "      <td>MERIEDY</td>\n",
       "      <td>THOMAS</td>\n",
       "      <td>Black</td>\n",
       "      <td>24.0</td>\n",
       "      <td>Male</td>\n",
       "      <td>Washington</td>\n",
       "      <td>DC</td>\n",
       "      <td>38.862517</td>\n",
       "      <td>-76.990880</td>\n",
       "      <td>Open/No arrest</td>\n",
       "    </tr>\n",
       "    <tr>\n",
       "      <th>52151</th>\n",
       "      <td>Was-001356</td>\n",
       "      <td>20160906</td>\n",
       "      <td>COOK</td>\n",
       "      <td>JOE</td>\n",
       "      <td>Black</td>\n",
       "      <td>35.0</td>\n",
       "      <td>Male</td>\n",
       "      <td>Washington</td>\n",
       "      <td>DC</td>\n",
       "      <td>38.854721</td>\n",
       "      <td>-76.990795</td>\n",
       "      <td>Closed by arrest</td>\n",
       "    </tr>\n",
       "    <tr>\n",
       "      <th>52152</th>\n",
       "      <td>Was-001357</td>\n",
       "      <td>20160917</td>\n",
       "      <td>PHILLIPS</td>\n",
       "      <td>SCORPIO</td>\n",
       "      <td>Black</td>\n",
       "      <td>31.0</td>\n",
       "      <td>Male</td>\n",
       "      <td>Washington</td>\n",
       "      <td>DC</td>\n",
       "      <td>38.877003</td>\n",
       "      <td>-76.995627</td>\n",
       "      <td>Open/No arrest</td>\n",
       "    </tr>\n",
       "    <tr>\n",
       "      <th>52153</th>\n",
       "      <td>Was-001358</td>\n",
       "      <td>20160917</td>\n",
       "      <td>HARRIS</td>\n",
       "      <td>ZORUAN</td>\n",
       "      <td>Black</td>\n",
       "      <td>18.0</td>\n",
       "      <td>Male</td>\n",
       "      <td>Washington</td>\n",
       "      <td>DC</td>\n",
       "      <td>38.877003</td>\n",
       "      <td>-76.995627</td>\n",
       "      <td>Open/No arrest</td>\n",
       "    </tr>\n",
       "    <tr>\n",
       "      <th>52154</th>\n",
       "      <td>Was-001359</td>\n",
       "      <td>20161108</td>\n",
       "      <td>PRATT</td>\n",
       "      <td>ANTINA</td>\n",
       "      <td>Black</td>\n",
       "      <td>40.0</td>\n",
       "      <td>Female</td>\n",
       "      <td>Washington</td>\n",
       "      <td>DC</td>\n",
       "      <td>38.855699</td>\n",
       "      <td>-76.993248</td>\n",
       "      <td>Open/No arrest</td>\n",
       "    </tr>\n",
       "    <tr>\n",
       "      <th>52155</th>\n",
       "      <td>Was-001360</td>\n",
       "      <td>20161127</td>\n",
       "      <td>SILVER</td>\n",
       "      <td>ORLANDO</td>\n",
       "      <td>Black</td>\n",
       "      <td>37.0</td>\n",
       "      <td>Male</td>\n",
       "      <td>Washington</td>\n",
       "      <td>DC</td>\n",
       "      <td>38.860054</td>\n",
       "      <td>-76.991825</td>\n",
       "      <td>Closed by arrest</td>\n",
       "    </tr>\n",
       "    <tr>\n",
       "      <th>52156</th>\n",
       "      <td>Was-001361</td>\n",
       "      <td>20160304</td>\n",
       "      <td>REZENE</td>\n",
       "      <td>NOEL</td>\n",
       "      <td>Black</td>\n",
       "      <td>26.0</td>\n",
       "      <td>Male</td>\n",
       "      <td>Washington</td>\n",
       "      <td>DC</td>\n",
       "      <td>38.849150</td>\n",
       "      <td>-76.971272</td>\n",
       "      <td>Closed by arrest</td>\n",
       "    </tr>\n",
       "    <tr>\n",
       "      <th>52157</th>\n",
       "      <td>Was-001362</td>\n",
       "      <td>20160511</td>\n",
       "      <td>DRAYTON</td>\n",
       "      <td>JAVION</td>\n",
       "      <td>Black</td>\n",
       "      <td>3.0</td>\n",
       "      <td>Male</td>\n",
       "      <td>Washington</td>\n",
       "      <td>DC</td>\n",
       "      <td>38.853961</td>\n",
       "      <td>-76.984712</td>\n",
       "      <td>Closed without arrest</td>\n",
       "    </tr>\n",
       "    <tr>\n",
       "      <th>52158</th>\n",
       "      <td>Was-001363</td>\n",
       "      <td>20160702</td>\n",
       "      <td>MCCULLOUGH</td>\n",
       "      <td>ANTOINE</td>\n",
       "      <td>Black</td>\n",
       "      <td>30.0</td>\n",
       "      <td>Male</td>\n",
       "      <td>Washington</td>\n",
       "      <td>DC</td>\n",
       "      <td>38.843740</td>\n",
       "      <td>-76.977839</td>\n",
       "      <td>Closed by arrest</td>\n",
       "    </tr>\n",
       "    <tr>\n",
       "      <th>52159</th>\n",
       "      <td>Was-001365</td>\n",
       "      <td>20161111</td>\n",
       "      <td>BUIE</td>\n",
       "      <td>SAMUELLE</td>\n",
       "      <td>Black</td>\n",
       "      <td>25.0</td>\n",
       "      <td>Male</td>\n",
       "      <td>Washington</td>\n",
       "      <td>DC</td>\n",
       "      <td>38.851284</td>\n",
       "      <td>-76.981029</td>\n",
       "      <td>Open/No arrest</td>\n",
       "    </tr>\n",
       "    <tr>\n",
       "      <th>52160</th>\n",
       "      <td>Was-001366</td>\n",
       "      <td>20161111</td>\n",
       "      <td>JENNINGS</td>\n",
       "      <td>RASSAAN</td>\n",
       "      <td>Black</td>\n",
       "      <td>19.0</td>\n",
       "      <td>Male</td>\n",
       "      <td>Washington</td>\n",
       "      <td>DC</td>\n",
       "      <td>38.851284</td>\n",
       "      <td>-76.981029</td>\n",
       "      <td>Open/No arrest</td>\n",
       "    </tr>\n",
       "    <tr>\n",
       "      <th>52161</th>\n",
       "      <td>Was-001367</td>\n",
       "      <td>20161122</td>\n",
       "      <td>TYLER</td>\n",
       "      <td>MARQUETT</td>\n",
       "      <td>Black</td>\n",
       "      <td>26.0</td>\n",
       "      <td>Male</td>\n",
       "      <td>Washington</td>\n",
       "      <td>DC</td>\n",
       "      <td>38.849967</td>\n",
       "      <td>-76.974421</td>\n",
       "      <td>Open/No arrest</td>\n",
       "    </tr>\n",
       "    <tr>\n",
       "      <th>52162</th>\n",
       "      <td>Was-001368</td>\n",
       "      <td>20160302</td>\n",
       "      <td>GARRIS</td>\n",
       "      <td>RUDOLPH</td>\n",
       "      <td>Black</td>\n",
       "      <td>25.0</td>\n",
       "      <td>Male</td>\n",
       "      <td>Washington</td>\n",
       "      <td>DC</td>\n",
       "      <td>38.827191</td>\n",
       "      <td>-76.998183</td>\n",
       "      <td>Closed by arrest</td>\n",
       "    </tr>\n",
       "    <tr>\n",
       "      <th>52163</th>\n",
       "      <td>Was-001369</td>\n",
       "      <td>20160317</td>\n",
       "      <td>DANSBURY</td>\n",
       "      <td>AUBREY</td>\n",
       "      <td>Black</td>\n",
       "      <td>27.0</td>\n",
       "      <td>Male</td>\n",
       "      <td>Washington</td>\n",
       "      <td>DC</td>\n",
       "      <td>38.829442</td>\n",
       "      <td>-76.993175</td>\n",
       "      <td>Closed by arrest</td>\n",
       "    </tr>\n",
       "    <tr>\n",
       "      <th>52164</th>\n",
       "      <td>Was-001370</td>\n",
       "      <td>20160510</td>\n",
       "      <td>HANEY</td>\n",
       "      <td>JAQUAN</td>\n",
       "      <td>Black</td>\n",
       "      <td>22.0</td>\n",
       "      <td>Male</td>\n",
       "      <td>Washington</td>\n",
       "      <td>DC</td>\n",
       "      <td>38.833943</td>\n",
       "      <td>-76.990742</td>\n",
       "      <td>Open/No arrest</td>\n",
       "    </tr>\n",
       "    <tr>\n",
       "      <th>52165</th>\n",
       "      <td>Was-001371</td>\n",
       "      <td>20160519</td>\n",
       "      <td>HAMILTON</td>\n",
       "      <td>DANA</td>\n",
       "      <td>Black</td>\n",
       "      <td>44.0</td>\n",
       "      <td>Male</td>\n",
       "      <td>Washington</td>\n",
       "      <td>DC</td>\n",
       "      <td>38.828365</td>\n",
       "      <td>-76.994431</td>\n",
       "      <td>Closed by arrest</td>\n",
       "    </tr>\n",
       "    <tr>\n",
       "      <th>52166</th>\n",
       "      <td>Was-001372</td>\n",
       "      <td>20160609</td>\n",
       "      <td>WRIGHT</td>\n",
       "      <td>RASHAWN</td>\n",
       "      <td>Black</td>\n",
       "      <td>25.0</td>\n",
       "      <td>Male</td>\n",
       "      <td>Washington</td>\n",
       "      <td>DC</td>\n",
       "      <td>38.835947</td>\n",
       "      <td>-76.990438</td>\n",
       "      <td>Open/No arrest</td>\n",
       "    </tr>\n",
       "    <tr>\n",
       "      <th>52167</th>\n",
       "      <td>Was-001373</td>\n",
       "      <td>20160626</td>\n",
       "      <td>BLACKWELL</td>\n",
       "      <td>WESTLEY</td>\n",
       "      <td>Black</td>\n",
       "      <td>38.0</td>\n",
       "      <td>Male</td>\n",
       "      <td>Washington</td>\n",
       "      <td>DC</td>\n",
       "      <td>38.834756</td>\n",
       "      <td>-76.992662</td>\n",
       "      <td>Open/No arrest</td>\n",
       "    </tr>\n",
       "    <tr>\n",
       "      <th>52168</th>\n",
       "      <td>Was-001374</td>\n",
       "      <td>20161227</td>\n",
       "      <td>DOWTIN</td>\n",
       "      <td>HERBERT</td>\n",
       "      <td>Black</td>\n",
       "      <td>22.0</td>\n",
       "      <td>Male</td>\n",
       "      <td>Washington</td>\n",
       "      <td>DC</td>\n",
       "      <td>38.833190</td>\n",
       "      <td>-76.994345</td>\n",
       "      <td>Closed by arrest</td>\n",
       "    </tr>\n",
       "    <tr>\n",
       "      <th>52169</th>\n",
       "      <td>Was-001375</td>\n",
       "      <td>20160224</td>\n",
       "      <td>MEDLAY</td>\n",
       "      <td>DEMETRIUS</td>\n",
       "      <td>Black</td>\n",
       "      <td>22.0</td>\n",
       "      <td>Male</td>\n",
       "      <td>Washington</td>\n",
       "      <td>DC</td>\n",
       "      <td>38.843399</td>\n",
       "      <td>-77.000104</td>\n",
       "      <td>Closed by arrest</td>\n",
       "    </tr>\n",
       "    <tr>\n",
       "      <th>52170</th>\n",
       "      <td>Was-001376</td>\n",
       "      <td>20160731</td>\n",
       "      <td>STEPHENS</td>\n",
       "      <td>JUDONNE</td>\n",
       "      <td>Black</td>\n",
       "      <td>25.0</td>\n",
       "      <td>Male</td>\n",
       "      <td>Washington</td>\n",
       "      <td>DC</td>\n",
       "      <td>38.863322</td>\n",
       "      <td>-76.995309</td>\n",
       "      <td>Open/No arrest</td>\n",
       "    </tr>\n",
       "    <tr>\n",
       "      <th>52171</th>\n",
       "      <td>Was-001377</td>\n",
       "      <td>20160916</td>\n",
       "      <td>PEOPLES</td>\n",
       "      <td>DARNELL</td>\n",
       "      <td>Black</td>\n",
       "      <td>35.0</td>\n",
       "      <td>Male</td>\n",
       "      <td>Washington</td>\n",
       "      <td>DC</td>\n",
       "      <td>38.845871</td>\n",
       "      <td>-76.998169</td>\n",
       "      <td>Closed by arrest</td>\n",
       "    </tr>\n",
       "    <tr>\n",
       "      <th>52172</th>\n",
       "      <td>Was-001378</td>\n",
       "      <td>20160415</td>\n",
       "      <td>IVEY</td>\n",
       "      <td>PAUL</td>\n",
       "      <td>Black</td>\n",
       "      <td>37.0</td>\n",
       "      <td>Male</td>\n",
       "      <td>Washington</td>\n",
       "      <td>DC</td>\n",
       "      <td>38.826458</td>\n",
       "      <td>-77.003590</td>\n",
       "      <td>Closed by arrest</td>\n",
       "    </tr>\n",
       "    <tr>\n",
       "      <th>52173</th>\n",
       "      <td>Was-001379</td>\n",
       "      <td>20160715</td>\n",
       "      <td>HARRIS</td>\n",
       "      <td>SHAROD</td>\n",
       "      <td>Black</td>\n",
       "      <td>20.0</td>\n",
       "      <td>Male</td>\n",
       "      <td>Washington</td>\n",
       "      <td>DC</td>\n",
       "      <td>38.827266</td>\n",
       "      <td>-77.001572</td>\n",
       "      <td>Open/No arrest</td>\n",
       "    </tr>\n",
       "    <tr>\n",
       "      <th>52174</th>\n",
       "      <td>Was-001380</td>\n",
       "      <td>20160908</td>\n",
       "      <td>WILLIAMS</td>\n",
       "      <td>EVAN</td>\n",
       "      <td>Black</td>\n",
       "      <td>29.0</td>\n",
       "      <td>Male</td>\n",
       "      <td>Washington</td>\n",
       "      <td>DC</td>\n",
       "      <td>38.828704</td>\n",
       "      <td>-77.002075</td>\n",
       "      <td>Closed by arrest</td>\n",
       "    </tr>\n",
       "    <tr>\n",
       "      <th>52175</th>\n",
       "      <td>Was-001381</td>\n",
       "      <td>20160913</td>\n",
       "      <td>SMITH</td>\n",
       "      <td>DEON</td>\n",
       "      <td>Black</td>\n",
       "      <td>19.0</td>\n",
       "      <td>Male</td>\n",
       "      <td>Washington</td>\n",
       "      <td>DC</td>\n",
       "      <td>38.822852</td>\n",
       "      <td>-77.001725</td>\n",
       "      <td>Open/No arrest</td>\n",
       "    </tr>\n",
       "    <tr>\n",
       "      <th>52176</th>\n",
       "      <td>Was-001382</td>\n",
       "      <td>20161114</td>\n",
       "      <td>WASHINGTON</td>\n",
       "      <td>WILLIE</td>\n",
       "      <td>Black</td>\n",
       "      <td>23.0</td>\n",
       "      <td>Male</td>\n",
       "      <td>Washington</td>\n",
       "      <td>DC</td>\n",
       "      <td>38.828025</td>\n",
       "      <td>-77.002511</td>\n",
       "      <td>Open/No arrest</td>\n",
       "    </tr>\n",
       "    <tr>\n",
       "      <th>52177</th>\n",
       "      <td>Was-001383</td>\n",
       "      <td>20161130</td>\n",
       "      <td>BARNES</td>\n",
       "      <td>MARCUS</td>\n",
       "      <td>Black</td>\n",
       "      <td>24.0</td>\n",
       "      <td>Male</td>\n",
       "      <td>Washington</td>\n",
       "      <td>DC</td>\n",
       "      <td>38.820476</td>\n",
       "      <td>-77.008640</td>\n",
       "      <td>Open/No arrest</td>\n",
       "    </tr>\n",
       "    <tr>\n",
       "      <th>52178</th>\n",
       "      <td>Was-001384</td>\n",
       "      <td>20160901</td>\n",
       "      <td>JACKSON</td>\n",
       "      <td>KEVIN</td>\n",
       "      <td>Black</td>\n",
       "      <td>17.0</td>\n",
       "      <td>Male</td>\n",
       "      <td>Washington</td>\n",
       "      <td>DC</td>\n",
       "      <td>38.866689</td>\n",
       "      <td>-76.982409</td>\n",
       "      <td>Closed by arrest</td>\n",
       "    </tr>\n",
       "  </tbody>\n",
       "</table>\n",
       "<p>52179 rows × 12 columns</p>\n",
       "</div>"
      ],
      "text/plain": [
       "              uid  reported_date         victim_last victim_first victim_race  \\\n",
       "0      Alb-000001       20100504              GARCIA         JUAN    Hispanic   \n",
       "1      Alb-000002       20100216             MONTOYA      CAMERON    Hispanic   \n",
       "2      Alb-000003       20100601         SATTERFIELD      VIVIANA       White   \n",
       "3      Alb-000004       20100101            MENDIOLA       CARLOS    Hispanic   \n",
       "4      Alb-000005       20100102                MULA       VIVIAN       White   \n",
       "5      Alb-000006       20100126                BOOK    GERALDINE       White   \n",
       "6      Alb-000007       20100127           MALDONADO        DAVID    Hispanic   \n",
       "7      Alb-000008       20100127           MALDONADO       CONNIE    Hispanic   \n",
       "8      Alb-000009       20100130        MARTIN-LEYVA      GUSTAVO       White   \n",
       "9      Alb-000010       20100210             HERRERA       ISRAEL    Hispanic   \n",
       "10     Alb-000011       20100212  BARRIUS-CAMPANIONI       HECTOR    Hispanic   \n",
       "11     Alb-000012       20100218               LUJAN        KEVIN       White   \n",
       "12     Alb-000013       20100222           COLLAMORE         JOHN    Hispanic   \n",
       "13     Alb-000014       20100306            CHIQUITO        CORIN       Other   \n",
       "14     Alb-000015       20100308              TORRES       HECTOR    Hispanic   \n",
       "15     Alb-000016       20100308                GRAY     STEFANIA       White   \n",
       "16     Alb-000017       20100322               LEYVA         JOEL    Hispanic   \n",
       "17     Alb-000018       20100323               DAVID        LARRY       White   \n",
       "18     Alb-000019       20100402               BRITO    ELIZABETH       White   \n",
       "19     Alb-000020       20100420              CHAVEZ     GREG SR.    Hispanic   \n",
       "20     Alb-000021       20100423                KING       TEVION       Black   \n",
       "21     Alb-000022       20100423              BOYKIN       CEDRIC       Black   \n",
       "22     Alb-000023       20100518            BARRAGAN       MIGUEL       White   \n",
       "23     Alb-000024       20100602                FORD       LUTHER       Other   \n",
       "24     Alb-000025       20100602             WRONSKI        VIOLA       White   \n",
       "25     Alb-000026       20100603             ASHFORD    GUADALUPE    Hispanic   \n",
       "26     Alb-000027       20100712              TURNER     MICHELLE       White   \n",
       "27     Alb-000028       20100712          CUNNINGHAM       SHARON       White   \n",
       "28     Alb-000029       20100726              NGUYEN     SELENAVI       Asian   \n",
       "29     Alb-000030       20100728              VALDEZ         BILL    Hispanic   \n",
       "...           ...            ...                 ...          ...         ...   \n",
       "52149  Was-001353       20160324              TURNER      GABRIEL       Black   \n",
       "52150  Was-001355       20160518             MERIEDY       THOMAS       Black   \n",
       "52151  Was-001356       20160906                COOK          JOE       Black   \n",
       "52152  Was-001357       20160917            PHILLIPS      SCORPIO       Black   \n",
       "52153  Was-001358       20160917              HARRIS       ZORUAN       Black   \n",
       "52154  Was-001359       20161108               PRATT       ANTINA       Black   \n",
       "52155  Was-001360       20161127              SILVER      ORLANDO       Black   \n",
       "52156  Was-001361       20160304              REZENE         NOEL       Black   \n",
       "52157  Was-001362       20160511             DRAYTON       JAVION       Black   \n",
       "52158  Was-001363       20160702          MCCULLOUGH      ANTOINE       Black   \n",
       "52159  Was-001365       20161111                BUIE     SAMUELLE       Black   \n",
       "52160  Was-001366       20161111            JENNINGS      RASSAAN       Black   \n",
       "52161  Was-001367       20161122               TYLER     MARQUETT       Black   \n",
       "52162  Was-001368       20160302              GARRIS      RUDOLPH       Black   \n",
       "52163  Was-001369       20160317            DANSBURY       AUBREY       Black   \n",
       "52164  Was-001370       20160510               HANEY       JAQUAN       Black   \n",
       "52165  Was-001371       20160519            HAMILTON         DANA       Black   \n",
       "52166  Was-001372       20160609              WRIGHT      RASHAWN       Black   \n",
       "52167  Was-001373       20160626           BLACKWELL      WESTLEY       Black   \n",
       "52168  Was-001374       20161227              DOWTIN      HERBERT       Black   \n",
       "52169  Was-001375       20160224              MEDLAY    DEMETRIUS       Black   \n",
       "52170  Was-001376       20160731            STEPHENS      JUDONNE       Black   \n",
       "52171  Was-001377       20160916             PEOPLES      DARNELL       Black   \n",
       "52172  Was-001378       20160415                IVEY         PAUL       Black   \n",
       "52173  Was-001379       20160715              HARRIS       SHAROD       Black   \n",
       "52174  Was-001380       20160908            WILLIAMS         EVAN       Black   \n",
       "52175  Was-001381       20160913               SMITH         DEON       Black   \n",
       "52176  Was-001382       20161114          WASHINGTON       WILLIE       Black   \n",
       "52177  Was-001383       20161130              BARNES       MARCUS       Black   \n",
       "52178  Was-001384       20160901             JACKSON        KEVIN       Black   \n",
       "\n",
       "       victim_age victim_sex         city state        lat         lon  \\\n",
       "0            78.0       Male  Albuquerque    NM  35.095788 -106.538555   \n",
       "1            17.0       Male  Albuquerque    NM  35.056810 -106.715321   \n",
       "2            15.0     Female  Albuquerque    NM  35.086092 -106.695568   \n",
       "3            32.0       Male  Albuquerque    NM  35.078493 -106.556094   \n",
       "4            72.0     Female  Albuquerque    NM  35.130357 -106.580986   \n",
       "5            91.0     Female  Albuquerque    NM  35.151110 -106.537797   \n",
       "6            52.0       Male  Albuquerque    NM  35.111785 -106.712614   \n",
       "7            52.0     Female  Albuquerque    NM  35.111785 -106.712614   \n",
       "8            56.0       Male  Albuquerque    NM  35.075380 -106.553458   \n",
       "9            43.0       Male  Albuquerque    NM  35.065930 -106.572288   \n",
       "10           20.0       Male  Albuquerque    NM  35.077375 -106.560569   \n",
       "11            NaN       Male  Albuquerque    NM  35.077011 -106.564910   \n",
       "12           46.0       Male  Albuquerque    NM  35.064076 -106.608281   \n",
       "13           16.0       Male  Albuquerque    NM  35.041491 -106.742147   \n",
       "14           54.0       Male  Albuquerque    NM  35.070656 -106.615845   \n",
       "15           43.0     Female  Albuquerque    NM  35.070656 -106.615845   \n",
       "16           52.0       Male  Albuquerque    NM  35.079082 -106.495949   \n",
       "17           52.0       Male  Albuquerque    NM        NaN         NaN   \n",
       "18           22.0     Female  Albuquerque    NM  35.110404 -106.523668   \n",
       "19           49.0       Male  Albuquerque    NM  35.089573 -106.570078   \n",
       "20           15.0       Male  Albuquerque    NM  35.095887 -106.638081   \n",
       "21           25.0       Male  Albuquerque    NM  35.095887 -106.638081   \n",
       "22           20.0       Male  Albuquerque    NM  35.083401 -106.632941   \n",
       "23           47.0       Male  Albuquerque    NM  35.102423 -106.567674   \n",
       "24           88.0     Female  Albuquerque    NM  35.095956 -106.561135   \n",
       "25           27.0     Female  Albuquerque    NM  35.078462 -106.551755   \n",
       "26           36.0     Female  Albuquerque    NM  35.053748 -106.531800   \n",
       "27           47.0     Female  Albuquerque    NM  35.053748 -106.531800   \n",
       "28            1.0     Female  Albuquerque    NM  35.064456 -106.524458   \n",
       "29           58.0       Male  Albuquerque    NM  35.061827 -106.749104   \n",
       "...           ...        ...          ...   ...        ...         ...   \n",
       "52149        46.0       Male   Washington    DC  38.857628  -76.996482   \n",
       "52150        24.0       Male   Washington    DC  38.862517  -76.990880   \n",
       "52151        35.0       Male   Washington    DC  38.854721  -76.990795   \n",
       "52152        31.0       Male   Washington    DC  38.877003  -76.995627   \n",
       "52153        18.0       Male   Washington    DC  38.877003  -76.995627   \n",
       "52154        40.0     Female   Washington    DC  38.855699  -76.993248   \n",
       "52155        37.0       Male   Washington    DC  38.860054  -76.991825   \n",
       "52156        26.0       Male   Washington    DC  38.849150  -76.971272   \n",
       "52157         3.0       Male   Washington    DC  38.853961  -76.984712   \n",
       "52158        30.0       Male   Washington    DC  38.843740  -76.977839   \n",
       "52159        25.0       Male   Washington    DC  38.851284  -76.981029   \n",
       "52160        19.0       Male   Washington    DC  38.851284  -76.981029   \n",
       "52161        26.0       Male   Washington    DC  38.849967  -76.974421   \n",
       "52162        25.0       Male   Washington    DC  38.827191  -76.998183   \n",
       "52163        27.0       Male   Washington    DC  38.829442  -76.993175   \n",
       "52164        22.0       Male   Washington    DC  38.833943  -76.990742   \n",
       "52165        44.0       Male   Washington    DC  38.828365  -76.994431   \n",
       "52166        25.0       Male   Washington    DC  38.835947  -76.990438   \n",
       "52167        38.0       Male   Washington    DC  38.834756  -76.992662   \n",
       "52168        22.0       Male   Washington    DC  38.833190  -76.994345   \n",
       "52169        22.0       Male   Washington    DC  38.843399  -77.000104   \n",
       "52170        25.0       Male   Washington    DC  38.863322  -76.995309   \n",
       "52171        35.0       Male   Washington    DC  38.845871  -76.998169   \n",
       "52172        37.0       Male   Washington    DC  38.826458  -77.003590   \n",
       "52173        20.0       Male   Washington    DC  38.827266  -77.001572   \n",
       "52174        29.0       Male   Washington    DC  38.828704  -77.002075   \n",
       "52175        19.0       Male   Washington    DC  38.822852  -77.001725   \n",
       "52176        23.0       Male   Washington    DC  38.828025  -77.002511   \n",
       "52177        24.0       Male   Washington    DC  38.820476  -77.008640   \n",
       "52178        17.0       Male   Washington    DC  38.866689  -76.982409   \n",
       "\n",
       "                 disposition  \n",
       "0      Closed without arrest  \n",
       "1           Closed by arrest  \n",
       "2      Closed without arrest  \n",
       "3           Closed by arrest  \n",
       "4      Closed without arrest  \n",
       "5             Open/No arrest  \n",
       "6           Closed by arrest  \n",
       "7           Closed by arrest  \n",
       "8             Open/No arrest  \n",
       "9             Open/No arrest  \n",
       "10          Closed by arrest  \n",
       "11     Closed without arrest  \n",
       "12            Open/No arrest  \n",
       "13          Closed by arrest  \n",
       "14          Closed by arrest  \n",
       "15          Closed by arrest  \n",
       "16          Closed by arrest  \n",
       "17          Closed by arrest  \n",
       "18          Closed by arrest  \n",
       "19          Closed by arrest  \n",
       "20          Closed by arrest  \n",
       "21          Closed by arrest  \n",
       "22          Closed by arrest  \n",
       "23          Closed by arrest  \n",
       "24     Closed without arrest  \n",
       "25          Closed by arrest  \n",
       "26     Closed without arrest  \n",
       "27     Closed without arrest  \n",
       "28     Closed without arrest  \n",
       "29            Open/No arrest  \n",
       "...                      ...  \n",
       "52149       Closed by arrest  \n",
       "52150         Open/No arrest  \n",
       "52151       Closed by arrest  \n",
       "52152         Open/No arrest  \n",
       "52153         Open/No arrest  \n",
       "52154         Open/No arrest  \n",
       "52155       Closed by arrest  \n",
       "52156       Closed by arrest  \n",
       "52157  Closed without arrest  \n",
       "52158       Closed by arrest  \n",
       "52159         Open/No arrest  \n",
       "52160         Open/No arrest  \n",
       "52161         Open/No arrest  \n",
       "52162       Closed by arrest  \n",
       "52163       Closed by arrest  \n",
       "52164         Open/No arrest  \n",
       "52165       Closed by arrest  \n",
       "52166         Open/No arrest  \n",
       "52167         Open/No arrest  \n",
       "52168       Closed by arrest  \n",
       "52169       Closed by arrest  \n",
       "52170         Open/No arrest  \n",
       "52171       Closed by arrest  \n",
       "52172       Closed by arrest  \n",
       "52173         Open/No arrest  \n",
       "52174       Closed by arrest  \n",
       "52175         Open/No arrest  \n",
       "52176         Open/No arrest  \n",
       "52177         Open/No arrest  \n",
       "52178       Closed by arrest  \n",
       "\n",
       "[52179 rows x 12 columns]"
      ]
     },
     "execution_count": 3,
     "metadata": {},
     "output_type": "execute_result"
    }
   ],
   "source": [
    "df"
   ]
  },
  {
   "cell_type": "markdown",
   "metadata": {},
   "source": [
    "If you have the URL of a csv file, you can load it directly:"
   ]
  },
  {
   "cell_type": "code",
   "execution_count": 4,
   "metadata": {
    "slideshow": {
     "slide_type": "skip"
    }
   },
   "outputs": [],
   "source": [
    "csv_url = 'https://raw.githubusercontent.com/nealcaren/data/master/sets/homicide.csv'\n",
    "\n",
    "df = pd.read_csv(csv_url)"
   ]
  },
  {
   "cell_type": "markdown",
   "metadata": {
    "slideshow": {
     "slide_type": "slide"
    }
   },
   "source": [
    "#### Learning about your dataframe\n",
    "\n",
    "After loading a dataframe, best practice is to get a sense of the data with the `head`, `info` and `describe` methods. `head` shows the first five rows of the dataframe."
   ]
  },
  {
   "cell_type": "code",
   "execution_count": 5,
   "metadata": {
    "slideshow": {
     "slide_type": "slide"
    }
   },
   "outputs": [
    {
     "data": {
      "text/html": [
       "<div>\n",
       "<style scoped>\n",
       "    .dataframe tbody tr th:only-of-type {\n",
       "        vertical-align: middle;\n",
       "    }\n",
       "\n",
       "    .dataframe tbody tr th {\n",
       "        vertical-align: top;\n",
       "    }\n",
       "\n",
       "    .dataframe thead th {\n",
       "        text-align: right;\n",
       "    }\n",
       "</style>\n",
       "<table border=\"1\" class=\"dataframe\">\n",
       "  <thead>\n",
       "    <tr style=\"text-align: right;\">\n",
       "      <th></th>\n",
       "      <th>uid</th>\n",
       "      <th>reported_date</th>\n",
       "      <th>victim_last</th>\n",
       "      <th>victim_first</th>\n",
       "      <th>victim_race</th>\n",
       "      <th>victim_age</th>\n",
       "      <th>victim_sex</th>\n",
       "      <th>city</th>\n",
       "      <th>state</th>\n",
       "      <th>lat</th>\n",
       "      <th>lon</th>\n",
       "      <th>disposition</th>\n",
       "    </tr>\n",
       "  </thead>\n",
       "  <tbody>\n",
       "    <tr>\n",
       "      <th>0</th>\n",
       "      <td>Alb-000001</td>\n",
       "      <td>20100504</td>\n",
       "      <td>GARCIA</td>\n",
       "      <td>JUAN</td>\n",
       "      <td>Hispanic</td>\n",
       "      <td>78.0</td>\n",
       "      <td>Male</td>\n",
       "      <td>Albuquerque</td>\n",
       "      <td>NM</td>\n",
       "      <td>35.095788</td>\n",
       "      <td>-106.538555</td>\n",
       "      <td>Closed without arrest</td>\n",
       "    </tr>\n",
       "    <tr>\n",
       "      <th>1</th>\n",
       "      <td>Alb-000002</td>\n",
       "      <td>20100216</td>\n",
       "      <td>MONTOYA</td>\n",
       "      <td>CAMERON</td>\n",
       "      <td>Hispanic</td>\n",
       "      <td>17.0</td>\n",
       "      <td>Male</td>\n",
       "      <td>Albuquerque</td>\n",
       "      <td>NM</td>\n",
       "      <td>35.056810</td>\n",
       "      <td>-106.715321</td>\n",
       "      <td>Closed by arrest</td>\n",
       "    </tr>\n",
       "    <tr>\n",
       "      <th>2</th>\n",
       "      <td>Alb-000003</td>\n",
       "      <td>20100601</td>\n",
       "      <td>SATTERFIELD</td>\n",
       "      <td>VIVIANA</td>\n",
       "      <td>White</td>\n",
       "      <td>15.0</td>\n",
       "      <td>Female</td>\n",
       "      <td>Albuquerque</td>\n",
       "      <td>NM</td>\n",
       "      <td>35.086092</td>\n",
       "      <td>-106.695568</td>\n",
       "      <td>Closed without arrest</td>\n",
       "    </tr>\n",
       "    <tr>\n",
       "      <th>3</th>\n",
       "      <td>Alb-000004</td>\n",
       "      <td>20100101</td>\n",
       "      <td>MENDIOLA</td>\n",
       "      <td>CARLOS</td>\n",
       "      <td>Hispanic</td>\n",
       "      <td>32.0</td>\n",
       "      <td>Male</td>\n",
       "      <td>Albuquerque</td>\n",
       "      <td>NM</td>\n",
       "      <td>35.078493</td>\n",
       "      <td>-106.556094</td>\n",
       "      <td>Closed by arrest</td>\n",
       "    </tr>\n",
       "    <tr>\n",
       "      <th>4</th>\n",
       "      <td>Alb-000005</td>\n",
       "      <td>20100102</td>\n",
       "      <td>MULA</td>\n",
       "      <td>VIVIAN</td>\n",
       "      <td>White</td>\n",
       "      <td>72.0</td>\n",
       "      <td>Female</td>\n",
       "      <td>Albuquerque</td>\n",
       "      <td>NM</td>\n",
       "      <td>35.130357</td>\n",
       "      <td>-106.580986</td>\n",
       "      <td>Closed without arrest</td>\n",
       "    </tr>\n",
       "  </tbody>\n",
       "</table>\n",
       "</div>"
      ],
      "text/plain": [
       "          uid  reported_date  victim_last victim_first victim_race  \\\n",
       "0  Alb-000001       20100504       GARCIA         JUAN    Hispanic   \n",
       "1  Alb-000002       20100216      MONTOYA      CAMERON    Hispanic   \n",
       "2  Alb-000003       20100601  SATTERFIELD      VIVIANA       White   \n",
       "3  Alb-000004       20100101     MENDIOLA       CARLOS    Hispanic   \n",
       "4  Alb-000005       20100102         MULA       VIVIAN       White   \n",
       "\n",
       "   victim_age victim_sex         city state        lat         lon  \\\n",
       "0        78.0       Male  Albuquerque    NM  35.095788 -106.538555   \n",
       "1        17.0       Male  Albuquerque    NM  35.056810 -106.715321   \n",
       "2        15.0     Female  Albuquerque    NM  35.086092 -106.695568   \n",
       "3        32.0       Male  Albuquerque    NM  35.078493 -106.556094   \n",
       "4        72.0     Female  Albuquerque    NM  35.130357 -106.580986   \n",
       "\n",
       "             disposition  \n",
       "0  Closed without arrest  \n",
       "1       Closed by arrest  \n",
       "2  Closed without arrest  \n",
       "3       Closed by arrest  \n",
       "4  Closed without arrest  "
      ]
     },
     "execution_count": 5,
     "metadata": {},
     "output_type": "execute_result"
    }
   ],
   "source": [
    "df.head()"
   ]
  },
  {
   "cell_type": "markdown",
   "metadata": {
    "slideshow": {
     "slide_type": "skip"
    }
   },
   "source": [
    "In addition to the data in the csv file, an index has been created to identifiy each row. By default, this is an interger starting with 0. \n",
    "\n",
    "If the dataset is wide, middle columns will not be displayed. Also, if text fields are long, only the first few characters will be shown. These can both be adjusted using pandas [display settings](https://pandas.pydata.org/pandas-docs/stable/options.html). "
   ]
  },
  {
   "cell_type": "markdown",
   "metadata": {
    "slideshow": {
     "slide_type": "slide"
    }
   },
   "source": [
    "`info` can be used to explore the data types and the number of non-missing cases for each variable."
   ]
  },
  {
   "cell_type": "code",
   "execution_count": 6,
   "metadata": {
    "slideshow": {
     "slide_type": "fragment"
    }
   },
   "outputs": [
    {
     "name": "stdout",
     "output_type": "stream",
     "text": [
      "<class 'pandas.core.frame.DataFrame'>\n",
      "RangeIndex: 52179 entries, 0 to 52178\n",
      "Data columns (total 12 columns):\n",
      "uid              52179 non-null object\n",
      "reported_date    52179 non-null int64\n",
      "victim_last      52179 non-null object\n",
      "victim_first     52179 non-null object\n",
      "victim_race      52179 non-null object\n",
      "victim_age       49180 non-null float64\n",
      "victim_sex       52179 non-null object\n",
      "city             52179 non-null object\n",
      "state            52179 non-null object\n",
      "lat              52119 non-null float64\n",
      "lon              52119 non-null float64\n",
      "disposition      52179 non-null object\n",
      "dtypes: float64(3), int64(1), object(8)\n",
      "memory usage: 4.8+ MB\n"
     ]
    }
   ],
   "source": [
    "df.info()"
   ]
  },
  {
   "cell_type": "markdown",
   "metadata": {
    "slideshow": {
     "slide_type": "slide"
    }
   },
   "source": [
    "`describe` provides summary statistics for all the numeric variables. "
   ]
  },
  {
   "cell_type": "code",
   "execution_count": 7,
   "metadata": {
    "slideshow": {
     "slide_type": "fragment"
    }
   },
   "outputs": [
    {
     "data": {
      "text/html": [
       "<div>\n",
       "<style scoped>\n",
       "    .dataframe tbody tr th:only-of-type {\n",
       "        vertical-align: middle;\n",
       "    }\n",
       "\n",
       "    .dataframe tbody tr th {\n",
       "        vertical-align: top;\n",
       "    }\n",
       "\n",
       "    .dataframe thead th {\n",
       "        text-align: right;\n",
       "    }\n",
       "</style>\n",
       "<table border=\"1\" class=\"dataframe\">\n",
       "  <thead>\n",
       "    <tr style=\"text-align: right;\">\n",
       "      <th></th>\n",
       "      <th>reported_date</th>\n",
       "      <th>victim_age</th>\n",
       "      <th>lat</th>\n",
       "      <th>lon</th>\n",
       "    </tr>\n",
       "  </thead>\n",
       "  <tbody>\n",
       "    <tr>\n",
       "      <th>count</th>\n",
       "      <td>5.217900e+04</td>\n",
       "      <td>49180.000000</td>\n",
       "      <td>52119.000000</td>\n",
       "      <td>52119.000000</td>\n",
       "    </tr>\n",
       "    <tr>\n",
       "      <th>mean</th>\n",
       "      <td>2.013090e+07</td>\n",
       "      <td>31.801220</td>\n",
       "      <td>37.026786</td>\n",
       "      <td>-91.471094</td>\n",
       "    </tr>\n",
       "    <tr>\n",
       "      <th>std</th>\n",
       "      <td>1.123420e+06</td>\n",
       "      <td>14.418692</td>\n",
       "      <td>4.348647</td>\n",
       "      <td>13.746378</td>\n",
       "    </tr>\n",
       "    <tr>\n",
       "      <th>min</th>\n",
       "      <td>2.007010e+07</td>\n",
       "      <td>0.000000</td>\n",
       "      <td>25.725214</td>\n",
       "      <td>-122.507779</td>\n",
       "    </tr>\n",
       "    <tr>\n",
       "      <th>25%</th>\n",
       "      <td>2.010032e+07</td>\n",
       "      <td>22.000000</td>\n",
       "      <td>33.765203</td>\n",
       "      <td>-95.997198</td>\n",
       "    </tr>\n",
       "    <tr>\n",
       "      <th>50%</th>\n",
       "      <td>2.012122e+07</td>\n",
       "      <td>28.000000</td>\n",
       "      <td>38.524973</td>\n",
       "      <td>-87.710286</td>\n",
       "    </tr>\n",
       "    <tr>\n",
       "      <th>75%</th>\n",
       "      <td>2.015091e+07</td>\n",
       "      <td>40.000000</td>\n",
       "      <td>40.027627</td>\n",
       "      <td>-81.755909</td>\n",
       "    </tr>\n",
       "    <tr>\n",
       "      <th>max</th>\n",
       "      <td>2.015111e+08</td>\n",
       "      <td>102.000000</td>\n",
       "      <td>45.051190</td>\n",
       "      <td>-71.011519</td>\n",
       "    </tr>\n",
       "  </tbody>\n",
       "</table>\n",
       "</div>"
      ],
      "text/plain": [
       "       reported_date    victim_age           lat           lon\n",
       "count   5.217900e+04  49180.000000  52119.000000  52119.000000\n",
       "mean    2.013090e+07     31.801220     37.026786    -91.471094\n",
       "std     1.123420e+06     14.418692      4.348647     13.746378\n",
       "min     2.007010e+07      0.000000     25.725214   -122.507779\n",
       "25%     2.010032e+07     22.000000     33.765203    -95.997198\n",
       "50%     2.012122e+07     28.000000     38.524973    -87.710286\n",
       "75%     2.015091e+07     40.000000     40.027627    -81.755909\n",
       "max     2.015111e+08    102.000000     45.051190    -71.011519"
      ]
     },
     "execution_count": 7,
     "metadata": {},
     "output_type": "execute_result"
    }
   ],
   "source": [
    "df.describe()"
   ]
  },
  {
   "cell_type": "markdown",
   "metadata": {
    "slideshow": {
     "slide_type": "slide"
    }
   },
   "source": [
    "The column headers can be extracted using `keys`."
   ]
  },
  {
   "cell_type": "code",
   "execution_count": 8,
   "metadata": {
    "slideshow": {
     "slide_type": "fragment"
    }
   },
   "outputs": [
    {
     "data": {
      "text/plain": [
       "Index(['uid', 'reported_date', 'victim_last', 'victim_first', 'victim_race',\n",
       "       'victim_age', 'victim_sex', 'city', 'state', 'lat', 'lon',\n",
       "       'disposition'],\n",
       "      dtype='object')"
      ]
     },
     "execution_count": 8,
     "metadata": {},
     "output_type": "execute_result"
    }
   ],
   "source": [
    "df.keys()"
   ]
  },
  {
   "cell_type": "markdown",
   "metadata": {
    "slideshow": {
     "slide_type": "slide"
    }
   },
   "source": [
    "If you wanted to look at the bottom of the dataframe, you can use `tail`. Both `head` and `tail` allow you to change the number of rows displayed from the default five."
   ]
  },
  {
   "cell_type": "code",
   "execution_count": 9,
   "metadata": {
    "slideshow": {
     "slide_type": "fragment"
    }
   },
   "outputs": [
    {
     "data": {
      "text/html": [
       "<div>\n",
       "<style scoped>\n",
       "    .dataframe tbody tr th:only-of-type {\n",
       "        vertical-align: middle;\n",
       "    }\n",
       "\n",
       "    .dataframe tbody tr th {\n",
       "        vertical-align: top;\n",
       "    }\n",
       "\n",
       "    .dataframe thead th {\n",
       "        text-align: right;\n",
       "    }\n",
       "</style>\n",
       "<table border=\"1\" class=\"dataframe\">\n",
       "  <thead>\n",
       "    <tr style=\"text-align: right;\">\n",
       "      <th></th>\n",
       "      <th>uid</th>\n",
       "      <th>reported_date</th>\n",
       "      <th>victim_last</th>\n",
       "      <th>victim_first</th>\n",
       "      <th>victim_race</th>\n",
       "      <th>victim_age</th>\n",
       "      <th>victim_sex</th>\n",
       "      <th>city</th>\n",
       "      <th>state</th>\n",
       "      <th>lat</th>\n",
       "      <th>lon</th>\n",
       "      <th>disposition</th>\n",
       "    </tr>\n",
       "  </thead>\n",
       "  <tbody>\n",
       "    <tr>\n",
       "      <th>52176</th>\n",
       "      <td>Was-001382</td>\n",
       "      <td>20161114</td>\n",
       "      <td>WASHINGTON</td>\n",
       "      <td>WILLIE</td>\n",
       "      <td>Black</td>\n",
       "      <td>23.0</td>\n",
       "      <td>Male</td>\n",
       "      <td>Washington</td>\n",
       "      <td>DC</td>\n",
       "      <td>38.828025</td>\n",
       "      <td>-77.002511</td>\n",
       "      <td>Open/No arrest</td>\n",
       "    </tr>\n",
       "    <tr>\n",
       "      <th>52177</th>\n",
       "      <td>Was-001383</td>\n",
       "      <td>20161130</td>\n",
       "      <td>BARNES</td>\n",
       "      <td>MARCUS</td>\n",
       "      <td>Black</td>\n",
       "      <td>24.0</td>\n",
       "      <td>Male</td>\n",
       "      <td>Washington</td>\n",
       "      <td>DC</td>\n",
       "      <td>38.820476</td>\n",
       "      <td>-77.008640</td>\n",
       "      <td>Open/No arrest</td>\n",
       "    </tr>\n",
       "    <tr>\n",
       "      <th>52178</th>\n",
       "      <td>Was-001384</td>\n",
       "      <td>20160901</td>\n",
       "      <td>JACKSON</td>\n",
       "      <td>KEVIN</td>\n",
       "      <td>Black</td>\n",
       "      <td>17.0</td>\n",
       "      <td>Male</td>\n",
       "      <td>Washington</td>\n",
       "      <td>DC</td>\n",
       "      <td>38.866689</td>\n",
       "      <td>-76.982409</td>\n",
       "      <td>Closed by arrest</td>\n",
       "    </tr>\n",
       "  </tbody>\n",
       "</table>\n",
       "</div>"
      ],
      "text/plain": [
       "              uid  reported_date victim_last victim_first victim_race  \\\n",
       "52176  Was-001382       20161114  WASHINGTON       WILLIE       Black   \n",
       "52177  Was-001383       20161130      BARNES       MARCUS       Black   \n",
       "52178  Was-001384       20160901     JACKSON        KEVIN       Black   \n",
       "\n",
       "       victim_age victim_sex        city state        lat        lon  \\\n",
       "52176        23.0       Male  Washington    DC  38.828025 -77.002511   \n",
       "52177        24.0       Male  Washington    DC  38.820476 -77.008640   \n",
       "52178        17.0       Male  Washington    DC  38.866689 -76.982409   \n",
       "\n",
       "            disposition  \n",
       "52176    Open/No arrest  \n",
       "52177    Open/No arrest  \n",
       "52178  Closed by arrest  "
      ]
     },
     "execution_count": 9,
     "metadata": {},
     "output_type": "execute_result"
    }
   ],
   "source": [
    "df.tail(3)"
   ]
  },
  {
   "cell_type": "markdown",
   "metadata": {
    "slideshow": {
     "slide_type": "slide"
    }
   },
   "source": [
    "`sample` displays random rows from the dataframe."
   ]
  },
  {
   "cell_type": "code",
   "execution_count": 10,
   "metadata": {
    "slideshow": {
     "slide_type": "fragment"
    }
   },
   "outputs": [
    {
     "data": {
      "text/html": [
       "<div>\n",
       "<style scoped>\n",
       "    .dataframe tbody tr th:only-of-type {\n",
       "        vertical-align: middle;\n",
       "    }\n",
       "\n",
       "    .dataframe tbody tr th {\n",
       "        vertical-align: top;\n",
       "    }\n",
       "\n",
       "    .dataframe thead th {\n",
       "        text-align: right;\n",
       "    }\n",
       "</style>\n",
       "<table border=\"1\" class=\"dataframe\">\n",
       "  <thead>\n",
       "    <tr style=\"text-align: right;\">\n",
       "      <th></th>\n",
       "      <th>uid</th>\n",
       "      <th>reported_date</th>\n",
       "      <th>victim_last</th>\n",
       "      <th>victim_first</th>\n",
       "      <th>victim_race</th>\n",
       "      <th>victim_age</th>\n",
       "      <th>victim_sex</th>\n",
       "      <th>city</th>\n",
       "      <th>state</th>\n",
       "      <th>lat</th>\n",
       "      <th>lon</th>\n",
       "      <th>disposition</th>\n",
       "    </tr>\n",
       "  </thead>\n",
       "  <tbody>\n",
       "    <tr>\n",
       "      <th>28043</th>\n",
       "      <td>Las-001175</td>\n",
       "      <td>20170121</td>\n",
       "      <td>SANCHEZ</td>\n",
       "      <td>ALBERTO</td>\n",
       "      <td>Hispanic</td>\n",
       "      <td>24.0</td>\n",
       "      <td>Male</td>\n",
       "      <td>Las Vegas</td>\n",
       "      <td>NV</td>\n",
       "      <td>36.189362</td>\n",
       "      <td>-115.061763</td>\n",
       "      <td>Closed by arrest</td>\n",
       "    </tr>\n",
       "    <tr>\n",
       "      <th>13424</th>\n",
       "      <td>Cin-700043</td>\n",
       "      <td>20170728</td>\n",
       "      <td>ROBERTSON</td>\n",
       "      <td>RICKEY</td>\n",
       "      <td>Black</td>\n",
       "      <td>58.0</td>\n",
       "      <td>Male</td>\n",
       "      <td>Cincinnati</td>\n",
       "      <td>OH</td>\n",
       "      <td>39.140126</td>\n",
       "      <td>-84.476951</td>\n",
       "      <td>Open/No arrest</td>\n",
       "    </tr>\n",
       "    <tr>\n",
       "      <th>13253</th>\n",
       "      <td>Cin-000947</td>\n",
       "      <td>20140531</td>\n",
       "      <td>GASSETT</td>\n",
       "      <td>JOSHUA</td>\n",
       "      <td>Black</td>\n",
       "      <td>24.0</td>\n",
       "      <td>Male</td>\n",
       "      <td>Cincinnati</td>\n",
       "      <td>OH</td>\n",
       "      <td>39.162160</td>\n",
       "      <td>-84.382659</td>\n",
       "      <td>Closed by arrest</td>\n",
       "    </tr>\n",
       "    <tr>\n",
       "      <th>51164</th>\n",
       "      <td>Was-000343</td>\n",
       "      <td>20130907</td>\n",
       "      <td>SWEET</td>\n",
       "      <td>KENNETH</td>\n",
       "      <td>Black</td>\n",
       "      <td>30.0</td>\n",
       "      <td>Male</td>\n",
       "      <td>Washington</td>\n",
       "      <td>DC</td>\n",
       "      <td>38.877011</td>\n",
       "      <td>-77.002498</td>\n",
       "      <td>Open/No arrest</td>\n",
       "    </tr>\n",
       "    <tr>\n",
       "      <th>16190</th>\n",
       "      <td>Den-000087</td>\n",
       "      <td>20120318</td>\n",
       "      <td>NEWSON</td>\n",
       "      <td>BILLY</td>\n",
       "      <td>Black</td>\n",
       "      <td>29.0</td>\n",
       "      <td>Male</td>\n",
       "      <td>Denver</td>\n",
       "      <td>CO</td>\n",
       "      <td>39.740021</td>\n",
       "      <td>-104.979913</td>\n",
       "      <td>Closed by arrest</td>\n",
       "    </tr>\n",
       "  </tbody>\n",
       "</table>\n",
       "</div>"
      ],
      "text/plain": [
       "              uid  reported_date victim_last victim_first victim_race  \\\n",
       "28043  Las-001175       20170121     SANCHEZ      ALBERTO    Hispanic   \n",
       "13424  Cin-700043       20170728   ROBERTSON       RICKEY       Black   \n",
       "13253  Cin-000947       20140531     GASSETT       JOSHUA       Black   \n",
       "51164  Was-000343       20130907       SWEET      KENNETH       Black   \n",
       "16190  Den-000087       20120318      NEWSON        BILLY       Black   \n",
       "\n",
       "       victim_age victim_sex        city state        lat         lon  \\\n",
       "28043        24.0       Male   Las Vegas    NV  36.189362 -115.061763   \n",
       "13424        58.0       Male  Cincinnati    OH  39.140126  -84.476951   \n",
       "13253        24.0       Male  Cincinnati    OH  39.162160  -84.382659   \n",
       "51164        30.0       Male  Washington    DC  38.877011  -77.002498   \n",
       "16190        29.0       Male      Denver    CO  39.740021 -104.979913   \n",
       "\n",
       "            disposition  \n",
       "28043  Closed by arrest  \n",
       "13424    Open/No arrest  \n",
       "13253  Closed by arrest  \n",
       "51164    Open/No arrest  \n",
       "16190  Closed by arrest  "
      ]
     },
     "execution_count": 10,
     "metadata": {},
     "output_type": "execute_result"
    }
   ],
   "source": [
    "df.sample(5)"
   ]
  },
  {
   "cell_type": "markdown",
   "metadata": {
    "slideshow": {
     "slide_type": "slide"
    }
   },
   "source": [
    "<div class=\"alert alert-info\">\n",
    "<h3> Your turn</h3>\n",
    "<p> Display the first four rows of the dataframe <code>df</code>.  \n",
    "</div>"
   ]
  },
  {
   "cell_type": "code",
   "execution_count": null,
   "metadata": {
    "slideshow": {
     "slide_type": "fragment"
    }
   },
   "outputs": [],
   "source": []
  },
  {
   "cell_type": "markdown",
   "metadata": {},
   "source": [
    "<details>\n",
    "<summary>Sample answer code</summary> \n",
    "<code style=\"background-color: white\">\n",
    "df.head(4)\n",
    "</code>\n",
    "</details>"
   ]
  },
  {
   "cell_type": "markdown",
   "metadata": {
    "slideshow": {
     "slide_type": "slide"
    }
   },
   "source": [
    "### Working with variables\n"
   ]
  },
  {
   "cell_type": "code",
   "execution_count": null,
   "metadata": {},
   "outputs": [],
   "source": [
    "df.head(2)"
   ]
  },
  {
   "cell_type": "code",
   "execution_count": null,
   "metadata": {
    "slideshow": {
     "slide_type": "slide"
    }
   },
   "outputs": [],
   "source": [
    "df['victim_age'].describe()"
   ]
  },
  {
   "cell_type": "code",
   "execution_count": null,
   "metadata": {
    "slideshow": {
     "slide_type": "slide"
    }
   },
   "outputs": [],
   "source": [
    "df['victim_age'].value_counts()"
   ]
  },
  {
   "cell_type": "markdown",
   "metadata": {},
   "source": [
    "As this has many values, pandas only displays the top and bottom 30 cases. The `values` method can be used to produce an array containing all the values in order."
   ]
  },
  {
   "cell_type": "markdown",
   "metadata": {
    "slideshow": {
     "slide_type": "slide"
    }
   },
   "source": [
    "<div class=\"alert alert-info\">\n",
    "<h3> Your turn</h3>\n",
    "<p> Explore the <code>disposition</code> and <code>victim race</code>   columns in the dataframe.  \n",
    "</div>"
   ]
  },
  {
   "cell_type": "code",
   "execution_count": null,
   "metadata": {
    "slideshow": {
     "slide_type": "fragment"
    }
   },
   "outputs": [],
   "source": []
  },
  {
   "cell_type": "markdown",
   "metadata": {},
   "source": [
    "<details>\n",
    "<summary>Sample answer code</summary> \n",
    "<code style=\"background-color: white\">\n",
    "df['disposition'].value_counts()\n",
    "df['victim_race'].value_counts()\n",
    "df[['disposition','victim_race']].describe()\n",
    "</code>\n",
    "</details>"
   ]
  },
  {
   "cell_type": "markdown",
   "metadata": {
    "slideshow": {
     "slide_type": "slide"
    }
   },
   "source": [
    "All of the values of a specific variables can be extracted."
   ]
  },
  {
   "cell_type": "code",
   "execution_count": null,
   "metadata": {
    "slideshow": {
     "slide_type": "fragment"
    }
   },
   "outputs": [],
   "source": [
    "ages = df['victim_age'].values\n",
    "len(ages)"
   ]
  },
  {
   "cell_type": "code",
   "execution_count": null,
   "metadata": {
    "slideshow": {
     "slide_type": "fragment"
    }
   },
   "outputs": [],
   "source": [
    "first_age = ages[0]\n",
    "print(first_age)"
   ]
  },
  {
   "cell_type": "markdown",
   "metadata": {
    "slideshow": {
     "slide_type": "slide"
    }
   },
   "source": [
    "<div class=\"alert alert-info\">\n",
    "<h3> Your turn</h3>\n",
    "<p> Display seven value from the middle of our age variable.\n",
    "\n",
    "</div>\n"
   ]
  },
  {
   "cell_type": "code",
   "execution_count": null,
   "metadata": {
    "slideshow": {
     "slide_type": "fragment"
    }
   },
   "outputs": [],
   "source": []
  },
  {
   "cell_type": "markdown",
   "metadata": {},
   "source": [
    "<details>\n",
    "<summary>Sample answer code</summary> \n",
    "<code style=\"background-color: white\">\n",
    "ages[1201:1208]\n",
    "</code>\n",
    "</details>"
   ]
  },
  {
   "cell_type": "markdown",
   "metadata": {
    "slideshow": {
     "slide_type": "slide"
    }
   },
   "source": [
    "<div class=\"alert alert-info\">\n",
    "<h3> Your turn</h3>\n",
    "<p> A well-known data set is the list of titanic passengers. A version can be found in the data folder called, \"titanic.csv\". Open the file as a new dataframe <code>titanic_df</code>. How many cases? How many columns? What can you find out about the data?\n",
    "\n",
    "</div>\n"
   ]
  },
  {
   "cell_type": "code",
   "execution_count": null,
   "metadata": {},
   "outputs": [],
   "source": []
  },
  {
   "cell_type": "markdown",
   "metadata": {},
   "source": [
    "<details>\n",
    "<summary>Sample answer code</summary> \n",
    "<code style=\"background-color: white\">\n",
    "titanic_df = pd.read_csv('data/titanic.csv')\n",
    "titanic_df.describe()\n",
    "titanic_df.info()\n",
    "titanic_df.sample(5)\n",
    "</code>\n",
    "</details>"
   ]
  },
  {
   "cell_type": "markdown",
   "metadata": {
    "slideshow": {
     "slide_type": "slide"
    }
   },
   "source": [
    "#### Plots (optional)\n",
    "\n",
    "pandas also has plotting capabilies, such as histograms (`hist`) and a correlation matrix (`scatter_matrix`).  "
   ]
  },
  {
   "cell_type": "code",
   "execution_count": null,
   "metadata": {
    "slideshow": {
     "slide_type": "fragment"
    }
   },
   "outputs": [],
   "source": [
    "%matplotlib inline"
   ]
  },
  {
   "cell_type": "code",
   "execution_count": null,
   "metadata": {
    "slideshow": {
     "slide_type": "slide"
    }
   },
   "outputs": [],
   "source": [
    "df['victim_age'].hist()"
   ]
  },
  {
   "cell_type": "markdown",
   "metadata": {
    "slideshow": {
     "slide_type": "skip"
    }
   },
   "source": [
    "Plot of individual variables, or series in pandas terminology, are attributes of the data type. That is, you start wit the thing you want plotted, in this case `df['victim_age']`, and append what you want to do, such as `.hist()`. \n",
    "\n",
    "A second type of plots, such as scatter plots, are methods of the dataframe. "
   ]
  },
  {
   "cell_type": "code",
   "execution_count": null,
   "metadata": {
    "slideshow": {
     "slide_type": "skip"
    }
   },
   "outputs": [],
   "source": [
    "df.plot.scatter(x='lon', y='lat')"
   ]
  },
  {
   "cell_type": "markdown",
   "metadata": {
    "slideshow": {
     "slide_type": "slide"
    }
   },
   "source": [
    "You could look at the other dataframe plotting methods on the helpful [pandas visualizations page](https://pandas.pydata.org/pandas-docs/stable/visualization.html). Alternatively, typing tab after `df.plot.` also reveals your options.\n",
    "\n",
    "<img src=\"images/auto.png\"  width=\"150px\" align=\"left\" /><p>\n",
    "\n",
    "\n",
    "\n",
    "\n"
   ]
  },
  {
   "cell_type": "markdown",
   "metadata": {
    "slideshow": {
     "slide_type": "slide"
    }
   },
   "source": [
    "Want to know about `hexbin`? Again, the help page on the web is useful, but appending a question mark to the end of the command will bring up the documentation. \n",
    "\n",
    "\n",
    "```df.plot.hexbin?```\n",
    "\n",
    "<img src=\"images/docstring.png\" width = \"80%\" align=\"left\"/>"
   ]
  },
  {
   "cell_type": "markdown",
   "metadata": {
    "slideshow": {
     "slide_type": "skip"
    }
   },
   "source": [
    "A third group of plots are part of the pandas plotting library. In these cases, the thing you want plotted is the first, or only, parameter passed, as is the case with the correlation matrix. "
   ]
  },
  {
   "cell_type": "code",
   "execution_count": null,
   "metadata": {
    "slideshow": {
     "slide_type": "skip"
    }
   },
   "outputs": [],
   "source": [
    "pd.plotting.scatter_matrix(df)"
   ]
  },
  {
   "cell_type": "markdown",
   "metadata": {
    "slideshow": {
     "slide_type": "skip"
    }
   },
   "source": [
    "Finally, you can also create subplots using the `by` option. Note that `by` accepts a series, or dataframe column, rather than a column name. "
   ]
  },
  {
   "cell_type": "code",
   "execution_count": null,
   "metadata": {
    "slideshow": {
     "slide_type": "skip"
    }
   },
   "outputs": [],
   "source": [
    "df['victim_age'].hist(by = df['victim_sex'],\n",
    "                      bins = 20)"
   ]
  },
  {
   "cell_type": "markdown",
   "metadata": {
    "slideshow": {
     "slide_type": "skip"
    }
   },
   "source": [
    "By default, `by` produces separate x and y scales for each subgraph. This is why it appears to be a relatively large number of deaths of very young females. The numbers between men and women at this age are comparable, but the very large number of male deaths in their 20s results in very different xscales for the graphs. This option can be changed with the `sharex` or `sharey` option. "
   ]
  },
  {
   "cell_type": "code",
   "execution_count": null,
   "metadata": {
    "slideshow": {
     "slide_type": "skip"
    }
   },
   "outputs": [],
   "source": [
    "df['victim_age'].hist(by = df['victim_sex'],\n",
    "                      bins   = 20,\n",
    "                      sharex = True,\n",
    "                      sharey = True)"
   ]
  },
  {
   "cell_type": "markdown",
   "metadata": {
    "slideshow": {
     "slide_type": "slide"
    }
   },
   "source": [
    "#### Other descriptives\n",
    "\n",
    "Pandas also has a method for producing crosstabs. "
   ]
  },
  {
   "cell_type": "code",
   "execution_count": null,
   "metadata": {
    "slideshow": {
     "slide_type": "fragment"
    }
   },
   "outputs": [],
   "source": [
    "pd.crosstab(df['victim_race'], df['disposition'])"
   ]
  },
  {
   "cell_type": "markdown",
   "metadata": {
    "slideshow": {
     "slide_type": "notes"
    }
   },
   "source": [
    "Note that since this is a pandas method, and not one of a specific dataframe, you need to be explicit about which datatframe each variable is coming from. That is why the first parameter is not `'victim_race'` but `df['victim_race']`. "
   ]
  },
  {
   "cell_type": "markdown",
   "metadata": {
    "slideshow": {
     "slide_type": "notes"
    }
   },
   "source": [
    "`normalize` can be used to display percentages instead of frequencies. A value of `index` normalized by row, `columns` by column, and `all` by all values."
   ]
  },
  {
   "cell_type": "code",
   "execution_count": null,
   "metadata": {
    "slideshow": {
     "slide_type": "slide"
    }
   },
   "outputs": [],
   "source": [
    "pd.crosstab(df['victim_race'], \n",
    "            df['disposition'], \n",
    "            normalize='index')"
   ]
  },
  {
   "cell_type": "markdown",
   "metadata": {
    "slideshow": {
     "slide_type": "skip"
    }
   },
   "source": [
    "Since this returns a dataframe, it can be saved or plotted."
   ]
  },
  {
   "cell_type": "code",
   "execution_count": null,
   "metadata": {
    "slideshow": {
     "slide_type": "skip"
    }
   },
   "outputs": [],
   "source": [
    "cross_tab = pd.crosstab(df['victim_race'], \n",
    "                        df['disposition'], \n",
    "                        normalize='index')\n",
    "\n",
    "cross_tab"
   ]
  },
  {
   "cell_type": "code",
   "execution_count": null,
   "metadata": {
    "slideshow": {
     "slide_type": "skip"
    }
   },
   "outputs": [],
   "source": [
    "cross_tab.to_csv('data/crosstab.csv')"
   ]
  },
  {
   "cell_type": "markdown",
   "metadata": {
    "slideshow": {
     "slide_type": "slide"
    }
   },
   "source": [
    "<div class=\"alert alert-info\">\n",
    "<h3> Your turn</h3>\n",
    "<p> In your titanic dataframe, run a crosstab between sex and survived. Anything interesting?\n",
    "\n",
    "</div>\n"
   ]
  },
  {
   "cell_type": "code",
   "execution_count": null,
   "metadata": {
    "slideshow": {
     "slide_type": "fragment"
    }
   },
   "outputs": [],
   "source": []
  },
  {
   "cell_type": "markdown",
   "metadata": {
    "slideshow": {
     "slide_type": "fragment"
    }
   },
   "source": [
    "<details>\n",
    "<summary>Sample answer code</summary> \n",
    "<code style=\"background-color: white\">\n",
    "pd.crosstab(titanic_df['Survived'],\n",
    "            titanic_df['Sex'], normalize='index')\n",
    "</code>\n",
    "</details>"
   ]
  },
  {
   "cell_type": "markdown",
   "metadata": {
    "slideshow": {
     "slide_type": "skip"
    }
   },
   "source": [
    "In order to highlight a meaningful characteristics of the data, you can sort before plotting. "
   ]
  },
  {
   "cell_type": "code",
   "execution_count": null,
   "metadata": {
    "slideshow": {
     "slide_type": "skip"
    }
   },
   "outputs": [],
   "source": [
    "cross_tab.sort_values(by='Closed by arrest')"
   ]
  },
  {
   "cell_type": "code",
   "execution_count": null,
   "metadata": {
    "slideshow": {
     "slide_type": "skip"
    }
   },
   "outputs": [],
   "source": [
    "cross_tab.sort_values(by='Closed by arrest').plot(kind   = 'barh',\n",
    "                                                  title  = 'Disposition by race')"
   ]
  },
  {
   "cell_type": "markdown",
   "metadata": {
    "slideshow": {
     "slide_type": "skip"
    }
   },
   "source": [
    "#### Subsets\n",
    "\n",
    "Similar to a list, a dataframe or series can be sliced to subset the data being shown. For example, `df[:2]` will return the first two rows of the dataframe. (This is identical to `df.head(2)`.)"
   ]
  },
  {
   "cell_type": "code",
   "execution_count": null,
   "metadata": {
    "slideshow": {
     "slide_type": "skip"
    }
   },
   "outputs": [],
   "source": [
    "df[:2]"
   ]
  },
  {
   "cell_type": "code",
   "execution_count": null,
   "metadata": {
    "slideshow": {
     "slide_type": "skip"
    }
   },
   "outputs": [],
   "source": [
    "df.head(2)"
   ]
  },
  {
   "cell_type": "markdown",
   "metadata": {
    "slideshow": {
     "slide_type": "skip"
    }
   },
   "source": [
    "This also works for specific columns."
   ]
  },
  {
   "cell_type": "code",
   "execution_count": null,
   "metadata": {
    "slideshow": {
     "slide_type": "skip"
    }
   },
   "outputs": [],
   "source": [
    "df['reported_date'][:3]"
   ]
  },
  {
   "cell_type": "markdown",
   "metadata": {
    "slideshow": {
     "slide_type": "slide"
    }
   },
   "source": [
    "#### Dates (optional)\n",
    "\n",
    "A new variable can be created from `reported_date` that pandas understands is a date variable using the `to_datetime` method. The format is `%Y%m%d` because the original date is in the \"YYYMMDD\" format, and `coerce` places missing values where the data can be translated, rather than stopping the variable creation completely. "
   ]
  },
  {
   "cell_type": "code",
   "execution_count": null,
   "metadata": {},
   "outputs": [],
   "source": [
    "df['reported_date'].head()"
   ]
  },
  {
   "cell_type": "code",
   "execution_count": null,
   "metadata": {
    "slideshow": {
     "slide_type": "slide"
    }
   },
   "outputs": [],
   "source": [
    "df['date'] = pd.to_datetime(df['reported_date'], \n",
    "                            format='%Y%m%d', \n",
    "                            errors='coerce')"
   ]
  },
  {
   "cell_type": "code",
   "execution_count": null,
   "metadata": {
    "slideshow": {
     "slide_type": "skip"
    }
   },
   "outputs": [],
   "source": [
    "df['date'][:3]"
   ]
  },
  {
   "cell_type": "markdown",
   "metadata": {
    "slideshow": {
     "slide_type": "slide"
    }
   },
   "source": [
    "From the new series, we can extract specific elements, such as the year."
   ]
  },
  {
   "cell_type": "code",
   "execution_count": null,
   "metadata": {
    "slideshow": {
     "slide_type": "fragment"
    }
   },
   "outputs": [],
   "source": [
    "df['year'] = df['date'].dt.year"
   ]
  },
  {
   "cell_type": "markdown",
   "metadata": {
    "slideshow": {
     "slide_type": "skip"
    }
   },
   "source": [
    "As before, `value_counts` and plots can give some sense of the distribution of the values."
   ]
  },
  {
   "cell_type": "code",
   "execution_count": null,
   "metadata": {
    "slideshow": {
     "slide_type": "slide"
    }
   },
   "outputs": [],
   "source": [
    "df['year'].value_counts()"
   ]
  },
  {
   "cell_type": "markdown",
   "metadata": {
    "slideshow": {
     "slide_type": "skip"
    }
   },
   "source": [
    "Value counts returns a pandas series with an index equal to the original values, in the case the year, and the series values based on the frequency. Since years have an order, it makes sense to sort by the index before plotting them."
   ]
  },
  {
   "cell_type": "code",
   "execution_count": null,
   "metadata": {
    "slideshow": {
     "slide_type": "skip"
    }
   },
   "outputs": [],
   "source": [
    "df['year'].value_counts().sort_index(ascending = False).plot(kind='barh')"
   ]
  },
  {
   "cell_type": "markdown",
   "metadata": {
    "slideshow": {
     "slide_type": "skip"
    }
   },
   "source": [
    "`crosstab` can also group based on more than one variable for the x or y axis. In that case, you pass a list rather than a single variable or series. To make this clearer, you can create the lists before creating the crosstab."
   ]
  },
  {
   "cell_type": "code",
   "execution_count": null,
   "metadata": {
    "slideshow": {
     "slide_type": "skip"
    }
   },
   "outputs": [],
   "source": [
    "y_vars = [df['state'], df['city']]\n",
    "x_vars = df['year']\n",
    "\n",
    "pd.crosstab(y_vars, x_vars)"
   ]
  },
  {
   "cell_type": "markdown",
   "metadata": {
    "slideshow": {
     "slide_type": "skip"
    }
   },
   "source": [
    "Crosstab returns a dataframe with the column and index names from the values in the original dataset. Since a list was passed, the datatframe has a `MultiIndex`. The can be useful for cases where you have nested data, like cities with states or annual data on multiple countries."
   ]
  },
  {
   "cell_type": "code",
   "execution_count": null,
   "metadata": {
    "slideshow": {
     "slide_type": "skip"
    }
   },
   "outputs": [],
   "source": [
    "pd.crosstab(y_vars, x_vars).index.names"
   ]
  },
  {
   "cell_type": "markdown",
   "metadata": {
    "slideshow": {
     "slide_type": "slide"
    }
   },
   "source": [
    "### Index"
   ]
  },
  {
   "cell_type": "code",
   "execution_count": null,
   "metadata": {
    "slideshow": {
     "slide_type": "fragment"
    }
   },
   "outputs": [],
   "source": [
    "df.head()"
   ]
  },
  {
   "cell_type": "markdown",
   "metadata": {
    "slideshow": {
     "slide_type": "slide"
    }
   },
   "source": [
    "By default, the index is a series that starts with 0. If your data has unique identifiers, however, it is helpful to use that as the index, especially if you intend on merging your data with other data sources. In this dataframe, each row has a unique value for `uid`."
   ]
  },
  {
   "cell_type": "code",
   "execution_count": null,
   "metadata": {
    "slideshow": {
     "slide_type": "fragment"
    }
   },
   "outputs": [],
   "source": [
    "df.set_index('uid', inplace=True)"
   ]
  },
  {
   "cell_type": "code",
   "execution_count": null,
   "metadata": {
    "slideshow": {
     "slide_type": "slide"
    }
   },
   "outputs": [],
   "source": [
    "df[:5]"
   ]
  },
  {
   "cell_type": "markdown",
   "metadata": {
    "slideshow": {
     "slide_type": "slide"
    }
   },
   "source": [
    "<div class=\"alert alert-info\">\n",
    "<h3> Your turn</h3>\n",
    "<p> In your Titanic dataframe, set the index to the <code>PassengerId</code> column. Confirm that it did want you wanted it to do.\n",
    "\n",
    "</div>\n"
   ]
  },
  {
   "cell_type": "code",
   "execution_count": null,
   "metadata": {
    "slideshow": {
     "slide_type": "fragment"
    }
   },
   "outputs": [],
   "source": []
  },
  {
   "cell_type": "markdown",
   "metadata": {},
   "source": [
    "<details>\n",
    "<summary>Sample answer code</summary> \n",
    "<code style=\"background-color: white\">\n",
    "titanic_df.set_index('PassengerId', inplace=True)\n",
    "titanic_df.sample(3)\n",
    "</code>\n",
    "</details>"
   ]
  },
  {
   "cell_type": "markdown",
   "metadata": {
    "slideshow": {
     "slide_type": "slide"
    }
   },
   "source": [
    "#### Subseting\n",
    "\n",
    "You can view a subset of a dataframe based on the value of a column. \n",
    "\n",
    "Let's say that you wanted to look at the cases where the victim's first name was \"Juan\". You could create a new series which is either `True` or `False` for each case."
   ]
  },
  {
   "cell_type": "code",
   "execution_count": null,
   "metadata": {
    "slideshow": {
     "slide_type": "slide"
    }
   },
   "outputs": [],
   "source": [
    "df['victim_first'] == 'JUAN'"
   ]
  },
  {
   "cell_type": "markdown",
   "metadata": {
    "slideshow": {
     "slide_type": "notes"
    }
   },
   "source": [
    "You could store this new true/false series. If you placed this in brackets after the name of the dataframe, pandas would display only the rows with a True value."
   ]
  },
  {
   "cell_type": "code",
   "execution_count": null,
   "metadata": {
    "slideshow": {
     "slide_type": "slide"
    }
   },
   "outputs": [],
   "source": [
    "is_juan = df['victim_first'] == 'JUAN'\n",
    "df[is_juan]"
   ]
  },
  {
   "cell_type": "markdown",
   "metadata": {
    "slideshow": {
     "slide_type": "slide"
    }
   },
   "source": [
    "More commonly, the two statements are combined."
   ]
  },
  {
   "cell_type": "code",
   "execution_count": null,
   "metadata": {
    "slideshow": {
     "slide_type": "fragment"
    }
   },
   "outputs": [],
   "source": [
    "df[df['victim_first'] == 'JUAN']"
   ]
  },
  {
   "cell_type": "markdown",
   "metadata": {
    "slideshow": {
     "slide_type": "slide"
    }
   },
   "source": [
    "With this method of subsetting, pandas doesn't return a new dataframe, but rather is just hiding some of the rows. So if you want to create a new dataframe based on this subset, you need to append `copy()` to the end. "
   ]
  },
  {
   "cell_type": "code",
   "execution_count": null,
   "metadata": {
    "slideshow": {
     "slide_type": "fragment"
    }
   },
   "outputs": [],
   "source": [
    "new_df = df[df['victim_first'] == 'JUAN'].copy()"
   ]
  },
  {
   "cell_type": "code",
   "execution_count": null,
   "metadata": {
    "slideshow": {
     "slide_type": "slide"
    }
   },
   "outputs": [],
   "source": [
    "new_df.head()"
   ]
  },
  {
   "cell_type": "markdown",
   "metadata": {
    "slideshow": {
     "slide_type": "slide"
    }
   },
   "source": [
    "As this selection method returns a dataframe, it can be stored. The following creates two dataframes, one with just the 2016 and one with just the 2017 cases."
   ]
  },
  {
   "cell_type": "code",
   "execution_count": null,
   "metadata": {
    "slideshow": {
     "slide_type": "slide"
    }
   },
   "outputs": [],
   "source": [
    "df_2017 = df[df['year'] == 2017].copy()\n",
    "df_2016 = df[df['year'] == 2016].copy()\n",
    "\n",
    "\n",
    "df_2017['year'].value_counts()"
   ]
  },
  {
   "cell_type": "code",
   "execution_count": null,
   "metadata": {
    "slideshow": {
     "slide_type": "slide"
    }
   },
   "outputs": [],
   "source": [
    "df_2016['year'].value_counts()"
   ]
  },
  {
   "cell_type": "markdown",
   "metadata": {
    "slideshow": {
     "slide_type": "skip"
    }
   },
   "source": [
    "`value_counts` confirms that the correct cases were grabbed.\n",
    "\n",
    "Alternatively you may want to limit your dataset by column. In this case, you create a list of the columns you want. This list is also placed in brackets after the dataframe name."
   ]
  },
  {
   "cell_type": "markdown",
   "metadata": {
    "slideshow": {
     "slide_type": "slide"
    }
   },
   "source": [
    "<div class=\"alert alert-info\">\n",
    "<h3> Your turn</h3>\n",
    "<p> Create a new dataframe with just the female passengers. Check your work.\n",
    "\n",
    "</div>\n"
   ]
  },
  {
   "cell_type": "code",
   "execution_count": null,
   "metadata": {
    "slideshow": {
     "slide_type": "fragment"
    }
   },
   "outputs": [],
   "source": []
  },
  {
   "cell_type": "markdown",
   "metadata": {},
   "source": [
    "<details>\n",
    "<summary>Sample answer code</summary> \n",
    "<code style=\"background-color: white\">\n",
    "mask = titanic_df['Sex'] == 'female'\n",
    "titanic_df_f = titanic_df[mask]\n",
    "titanic_df_f['Sex'].value_counts()\n",
    "</code>\n",
    "</details>"
   ]
  },
  {
   "cell_type": "markdown",
   "metadata": {
    "slideshow": {
     "slide_type": "slide"
    }
   },
   "source": [
    "#### More subsets"
   ]
  },
  {
   "cell_type": "code",
   "execution_count": null,
   "metadata": {
    "slideshow": {
     "slide_type": "fragment"
    }
   },
   "outputs": [],
   "source": [
    "columns_to_keep = ['victim_last', 'victim_first', 'victim_race', 'victim_age', 'victim_sex']"
   ]
  },
  {
   "cell_type": "code",
   "execution_count": null,
   "metadata": {
    "slideshow": {
     "slide_type": "fragment"
    }
   },
   "outputs": [],
   "source": [
    "df[columns_to_keep]"
   ]
  },
  {
   "cell_type": "markdown",
   "metadata": {
    "slideshow": {
     "slide_type": "slide"
    }
   },
   "source": [
    "As before, you can you use `copy` to create a new dataset."
   ]
  },
  {
   "cell_type": "code",
   "execution_count": null,
   "metadata": {
    "slideshow": {
     "slide_type": "fragment"
    }
   },
   "outputs": [],
   "source": [
    "victim_df = df[columns_to_keep].copy()"
   ]
  },
  {
   "cell_type": "code",
   "execution_count": null,
   "metadata": {
    "slideshow": {
     "slide_type": "fragment"
    }
   },
   "outputs": [],
   "source": [
    "victim_df.head()"
   ]
  },
  {
   "cell_type": "markdown",
   "metadata": {
    "slideshow": {
     "slide_type": "skip"
    }
   },
   "source": [
    "As with the row selection, you don't need to store the column names in a list first. By convention, these two steps are combined. However, combining the steps does create an awkward pair of double brackets."
   ]
  },
  {
   "cell_type": "code",
   "execution_count": null,
   "metadata": {
    "slideshow": {
     "slide_type": "slide"
    }
   },
   "outputs": [],
   "source": [
    "place_df = df[['city', 'state', 'lat', 'lon']].copy()"
   ]
  },
  {
   "cell_type": "code",
   "execution_count": null,
   "metadata": {
    "slideshow": {
     "slide_type": "fragment"
    }
   },
   "outputs": [],
   "source": [
    "place_df.head()"
   ]
  },
  {
   "cell_type": "markdown",
   "metadata": {
    "slideshow": {
     "slide_type": "skip"
    }
   },
   "source": [
    "#### Merging\n",
    "\n",
    "There are several different ways to combine datasets. The most straightforward is to merge two different datasets who share a key in common. To merge `place_df` with  `victim_df`, for example, you can use the datframe `merge` method. "
   ]
  },
  {
   "cell_type": "code",
   "execution_count": null,
   "metadata": {
    "slideshow": {
     "slide_type": "skip"
    }
   },
   "outputs": [],
   "source": [
    "merged_df = place_df.merge(victim_df, left_index=True, right_index=True)\n",
    "\n",
    "merged_df.head()"
   ]
  },
  {
   "cell_type": "markdown",
   "metadata": {
    "slideshow": {
     "slide_type": "skip"
    }
   },
   "source": [
    "### Stacking dataframes"
   ]
  },
  {
   "cell_type": "markdown",
   "metadata": {},
   "source": [
    "If you have multiple dataframes which each row represents the same kind of object, such as passengers on a ship or murder victims, you can stact them using `pd.concat`. Stacking is most effective when column names overlap between the datasets. Below, I create a new dataframe by stacking together victims from 2016 and 2017. "
   ]
  },
  {
   "cell_type": "code",
   "execution_count": null,
   "metadata": {
    "slideshow": {
     "slide_type": "skip"
    }
   },
   "outputs": [],
   "source": [
    "df_2016 = df[df['year'] == 2016]\n",
    "len(df_2016)"
   ]
  },
  {
   "cell_type": "code",
   "execution_count": null,
   "metadata": {
    "slideshow": {
     "slide_type": "skip"
    }
   },
   "outputs": [],
   "source": [
    "recent_df = pd.concat([df_2017, df_2016])"
   ]
  },
  {
   "cell_type": "code",
   "execution_count": null,
   "metadata": {
    "slideshow": {
     "slide_type": "skip"
    }
   },
   "outputs": [],
   "source": [
    "len(recent_df)"
   ]
  },
  {
   "cell_type": "markdown",
   "metadata": {
    "slideshow": {
     "slide_type": "slide"
    }
   },
   "source": [
    "### New features"
   ]
  },
  {
   "cell_type": "markdown",
   "metadata": {},
   "source": [
    "New columns in a dataframe can be created in the same manner that new objects are created in Python. "
   ]
  },
  {
   "cell_type": "code",
   "execution_count": null,
   "metadata": {
    "slideshow": {
     "slide_type": "fragment"
    }
   },
   "outputs": [],
   "source": [
    "df['birth_year'] = df['year'] - df['victim_age']"
   ]
  },
  {
   "cell_type": "code",
   "execution_count": null,
   "metadata": {
    "slideshow": {
     "slide_type": "slide"
    }
   },
   "outputs": [],
   "source": [
    "df['birth_year'].describe()"
   ]
  },
  {
   "cell_type": "code",
   "execution_count": null,
   "metadata": {
    "slideshow": {
     "slide_type": "slide"
    }
   },
   "outputs": [],
   "source": [
    "df['minor'] = df['victim_age'] <= 18"
   ]
  },
  {
   "cell_type": "code",
   "execution_count": null,
   "metadata": {
    "slideshow": {
     "slide_type": "fragment"
    }
   },
   "outputs": [],
   "source": [
    "df['minor'][:10]"
   ]
  },
  {
   "cell_type": "code",
   "execution_count": null,
   "metadata": {
    "slideshow": {
     "slide_type": "slide"
    }
   },
   "outputs": [],
   "source": [
    "df['minor'].mean()"
   ]
  },
  {
   "cell_type": "markdown",
   "metadata": {
    "slideshow": {
     "slide_type": "slide"
    }
   },
   "source": [
    "<div class=\"alert alert-info\">\n",
    "<h3> Your turn</h3>\n",
    "<p> Create a new variable in your Titanic dataframe which marks the people who paid a fare in the top 25% of all fares paid.\n",
    "\n",
    "</div>\n"
   ]
  },
  {
   "cell_type": "code",
   "execution_count": null,
   "metadata": {
    "slideshow": {
     "slide_type": "fragment"
    }
   },
   "outputs": [],
   "source": []
  },
  {
   "cell_type": "markdown",
   "metadata": {},
   "source": [
    "<details>\n",
    "<summary>Sample answer code</summary> \n",
    "<code style=\"background-color: white\">\n",
    "titanic_df['Fare'].describe()\n",
    "threshold = 7.9104\n",
    "\n",
    "titanic_df['Top_25_Fare'] = titanic_df['Fare'] > threshold\n",
    "titanic_df['Top_25_Fare'].value_counts()</code>\n",
    "</details>\n",
    "\n"
   ]
  },
  {
   "cell_type": "markdown",
   "metadata": {
    "slideshow": {
     "slide_type": "slide"
    }
   },
   "source": [
    "### Back to some pandas string manipulation fun."
   ]
  },
  {
   "cell_type": "markdown",
   "metadata": {},
   "source": [
    "As discussed in the first notebook, Python programming involves creating functions, such as one to do a simple string manipulation."
   ]
  },
  {
   "cell_type": "code",
   "execution_count": null,
   "metadata": {
    "slideshow": {
     "slide_type": "fragment"
    }
   },
   "outputs": [],
   "source": [
    "def title_case(text):\n",
    "    return text.title()"
   ]
  },
  {
   "cell_type": "code",
   "execution_count": null,
   "metadata": {
    "slideshow": {
     "slide_type": "fragment"
    }
   },
   "outputs": [],
   "source": [
    "title_case('JUAN')"
   ]
  },
  {
   "cell_type": "markdown",
   "metadata": {
    "slideshow": {
     "slide_type": "slide"
    }
   },
   "source": [
    "### The apply magic"
   ]
  },
  {
   "cell_type": "markdown",
   "metadata": {},
   "source": [
    "You can `apply` a function to a dataframe column in order to transfrom each value. The results can also be stored as a new feature. "
   ]
  },
  {
   "cell_type": "code",
   "execution_count": null,
   "metadata": {},
   "outputs": [],
   "source": [
    "df['victim_first'].apply(title_case)"
   ]
  },
  {
   "cell_type": "code",
   "execution_count": null,
   "metadata": {
    "slideshow": {
     "slide_type": "fragment"
    }
   },
   "outputs": [],
   "source": [
    "df['victim_first2'] = df['victim_first'].apply(title_case)"
   ]
  },
  {
   "cell_type": "code",
   "execution_count": null,
   "metadata": {
    "slideshow": {
     "slide_type": "slide"
    }
   },
   "outputs": [],
   "source": [
    "df['victim_first2'].sample(4)"
   ]
  },
  {
   "cell_type": "code",
   "execution_count": null,
   "metadata": {
    "slideshow": {
     "slide_type": "slide"
    }
   },
   "outputs": [],
   "source": [
    "df[['victim_first', 'victim_first2']].sample(5)"
   ]
  },
  {
   "cell_type": "markdown",
   "metadata": {
    "slideshow": {
     "slide_type": "slide"
    }
   },
   "source": [
    "<div class=\"alert alert-info\">\n",
    "<h3> Your turn</h3>\n",
    "<p> Write a function that extracts the last name from the name field on your Titanic dataframe. \n",
    "Create a new variable called <code>Family_Name</code> to store the results. What is the most common family name?\n",
    "\n",
    "</div>\n"
   ]
  },
  {
   "cell_type": "code",
   "execution_count": null,
   "metadata": {
    "slideshow": {
     "slide_type": "fragment"
    }
   },
   "outputs": [],
   "source": []
  },
  {
   "cell_type": "markdown",
   "metadata": {},
   "source": [
    "<details>\n",
    "<summary>Sample answer code</summary> \n",
    "<code style=\"background-color: white\">\n",
    "def make_name(name):\n",
    "    family_name = name.split(', ')[0]\n",
    "    return family_name\n",
    "\n",
    "titanic_df['Family_Name'] = titanic_df['Name'].apply(make_name)\n",
    "titanic_df['Family_Name'].sample(3)\n",
    "</code>\n",
    "</details>\n",
    "\n"
   ]
  },
  {
   "cell_type": "markdown",
   "metadata": {
    "slideshow": {
     "slide_type": "slide"
    }
   },
   "source": [
    "### Working on more than one column (optional)\n",
    "\n",
    "If you want a function to work with more than one column, you apply the function to the dataframe. The function will evaluate each row, so you have to specify in the function which columns you want to use."
   ]
  },
  {
   "cell_type": "code",
   "execution_count": null,
   "metadata": {
    "slideshow": {
     "slide_type": "fragment"
    }
   },
   "outputs": [],
   "source": [
    "def victim_name(row):\n",
    "    first_name = row['victim_first']\n",
    "    last_name  = row['victim_last']\n",
    "    name       = last_name + ', ' + first_name\n",
    "    name       = title_case(name)\n",
    "    return name"
   ]
  },
  {
   "cell_type": "code",
   "execution_count": null,
   "metadata": {
    "slideshow": {
     "slide_type": "slide"
    }
   },
   "outputs": [],
   "source": [
    "df.apply(victim_name, axis=1)"
   ]
  },
  {
   "cell_type": "markdown",
   "metadata": {},
   "source": [
    "Note that we include `axis=1` because we want the function to be applied to each row. The default is to apply the function to each column."
   ]
  },
  {
   "cell_type": "code",
   "execution_count": null,
   "metadata": {
    "slideshow": {
     "slide_type": "slide"
    }
   },
   "outputs": [],
   "source": [
    "df['victim_name'] = df.apply(victim_name, axis=1)"
   ]
  },
  {
   "cell_type": "code",
   "execution_count": null,
   "metadata": {
    "slideshow": {
     "slide_type": "fragment"
    }
   },
   "outputs": [],
   "source": [
    "cols_2_show = ['victim_first', 'victim_last', 'victim_name']\n",
    "\n",
    "df[cols_2_show].sample(5)"
   ]
  },
  {
   "cell_type": "markdown",
   "metadata": {},
   "source": [
    "<div class=\"alert alert-info\">\n",
    "<h3> Your turn</h3>\n",
    "<p> Write a function that tags all titanic passgers who are under 18 and who are traveling without parents (<code>parch == 0</code>)? Use the function to create a new variable.\n",
    "\n",
    "</div>\n"
   ]
  },
  {
   "cell_type": "code",
   "execution_count": null,
   "metadata": {},
   "outputs": [],
   "source": []
  },
  {
   "cell_type": "markdown",
   "metadata": {},
   "source": [
    "<details>\n",
    "<summary>Sample answer code</summary> \n",
    "<code style=\"background-color: white\">\n",
    "def unac_minor(row):\n",
    "    minor      = row['Age'] < 18\n",
    "    no_parents = row['Parch'] == 0\n",
    "    if minor == True and no_parents == True:\n",
    "        return True\n",
    "    return False\n",
    "titanic_df['Unaccomp_Minor'] = titanic_df.apply(unac_minor, axis=1)\n",
    "titanic_df['Unaccomp_Minor'].value_counts()\n",
    "</code>\n",
    "</details>\n",
    "\n"
   ]
  },
  {
   "cell_type": "markdown",
   "metadata": {},
   "source": [
    "Congratulations! You've now been introduced to the basics of data management in pandas for social scientists."
   ]
  }
 ],
 "metadata": {
  "kernelspec": {
   "display_name": "Python 3",
   "language": "python",
   "name": "python3"
  },
  "language_info": {
   "codemirror_mode": {
    "name": "ipython",
    "version": 3
   },
   "file_extension": ".py",
   "mimetype": "text/x-python",
   "name": "python",
   "nbconvert_exporter": "python",
   "pygments_lexer": "ipython3",
   "version": "3.7.6"
  },
  "toc": {
   "base_numbering": 1,
   "nav_menu": {},
   "number_sections": true,
   "sideBar": true,
   "skip_h1_title": false,
   "title_cell": "Table of Contents",
   "title_sidebar": "Contents",
   "toc_cell": true,
   "toc_position": {},
   "toc_section_display": true,
   "toc_window_display": false
  }
 },
 "nbformat": 4,
 "nbformat_minor": 2
}
